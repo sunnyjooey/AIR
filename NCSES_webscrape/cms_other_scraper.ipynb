{
 "cells": [
  {
   "cell_type": "code",
   "execution_count": 26,
   "id": "2f7b310a",
   "metadata": {},
   "outputs": [],
   "source": [
    "import pandas as pd\n",
    "import re\n",
    "import requests\n",
    "from bs4 import BeautifulSoup\n",
    "import pickle as pkl\n",
    "\n",
    "pd.set_option('display.max_rows', 500)"
   ]
  },
  {
   "cell_type": "code",
   "execution_count": 31,
   "id": "ee00b035",
   "metadata": {},
   "outputs": [],
   "source": [
    "# input content file\n",
    "CONTENT_FILE = '/Users/sjlee/Documents/github/ncses_data/2022-06-29-prod-cms-content.xlsx'\n",
    "sections = pd.read_excel(CONTENT_FILE, sheet_name='Sections')\n",
    "pubs = pd.read_excel(CONTENT_FILE, sheet_name='Publications')"
   ]
  },
  {
   "cell_type": "code",
   "execution_count": 32,
   "id": "47543313",
   "metadata": {},
   "outputs": [],
   "source": [
    "# filter to just the urls that need to be coded\n",
    "typ = ['ONE', 'WP', 'REF']\n",
    "sections = content[content['Pub Type'].isin(typ)]\n",
    "pubs = pubs[pubs['Type'].isin(typ)]"
   ]
  },
  {
   "cell_type": "code",
   "execution_count": 33,
   "id": "c71c7903",
   "metadata": {},
   "outputs": [
    {
     "name": "stderr",
     "output_type": "stream",
     "text": [
      "/Users/sjlee/opt/anaconda3/envs/my_env/lib/python3.7/site-packages/ipykernel_launcher.py:1: SettingWithCopyWarning: \n",
      "A value is trying to be set on a copy of a slice from a DataFrame.\n",
      "Try using .loc[row_indexer,col_indexer] = value instead\n",
      "\n",
      "See the caveats in the documentation: https://pandas.pydata.org/pandas-docs/stable/user_guide/indexing.html#returning-a-view-versus-a-copy\n",
      "  \"\"\"Entry point for launching an IPython kernel.\n"
     ]
    }
   ],
   "source": [
    "sections['URL-base'] = sections['URL'].apply(lambda url: url.split('#')[0])\n",
    "pubs['URL-base'] = pubs['URL']\n",
    "sections = pd.merge(sections, pubs[['Publish Date', 'URL-base']], on='URL-base')"
   ]
  },
  {
   "cell_type": "code",
   "execution_count": 49,
   "id": "23e44d20",
   "metadata": {},
   "outputs": [],
   "source": [
    "cols = ['Legacy', 'Pub Type', 'Asset Type', 'Publish Date', 'Pub ID', 'Path', 'Title', 'URL', 'Text']\n",
    "parsed_lst = []\n",
    "\n",
    "for url_base in set(sections['URL-base']):\n",
    "    page = requests.get(url_base)\n",
    "    soup = BeautifulSoup(page.content, \"html.parser\")\n",
    "    sec = sections[sections['URL-base']==url_base]\n",
    "    for i, row in sec.iterrows():\n",
    "        legacy = 'N'\n",
    "        pub_type = row['Pub Type']\n",
    "        asset_type = 'text'\n",
    "        pub_date = row['Publish Date']\n",
    "        pub_id = row['Section ID']\n",
    "        slug_path = row['Slug Path']\n",
    "        title = row['Title']\n",
    "        url_link = row['URL']\n",
    "        \n",
    "        slug = slug_path.split('->')[1:]\n",
    "        if len(slug) == 1:\n",
    "            sid = slug[0]\n",
    "        else: \n",
    "            sid = ('_').join(slug)\n",
    "            \n",
    "        tab_soup = soup.find('section', id=sid)\n",
    "        if tab_soup != None: \n",
    "            para = tab_soup.find_all('p')\n",
    "            if len(para) > 0:\n",
    "                text = ' '.join([p.text for p in para])\n",
    "            else:\n",
    "                text = ''\n",
    "        else:\n",
    "            text = ''\n",
    "        \n",
    "        return_lst = [legacy, pub_type, asset_type, pub_date, pub_id, slug_path, title, url_link, text]\n",
    "        parsed_lst.append(return_lst)\n"
   ]
  },
  {
   "cell_type": "code",
   "execution_count": 50,
   "id": "46f6b9b7",
   "metadata": {},
   "outputs": [],
   "source": [
    "df = pd.DataFrame(parsed_lst, columns=cols)"
   ]
  },
  {
   "cell_type": "code",
   "execution_count": 53,
   "id": "a81009ad",
   "metadata": {},
   "outputs": [],
   "source": [
    "df.to_csv('/Users/sjlee/Documents/github/ncses_data/current_scraped_files/cms_other.csv', index = False)"
   ]
  },
  {
   "cell_type": "code",
   "execution_count": null,
   "id": "7c4497f4",
   "metadata": {},
   "outputs": [],
   "source": []
  }
 ],
 "metadata": {
  "kernelspec": {
   "display_name": "Python 3 (ipykernel)",
   "language": "python",
   "name": "python3"
  },
  "language_info": {
   "codemirror_mode": {
    "name": "ipython",
    "version": 3
   },
   "file_extension": ".py",
   "mimetype": "text/x-python",
   "name": "python",
   "nbconvert_exporter": "python",
   "pygments_lexer": "ipython3",
   "version": "3.7.13"
  }
 },
 "nbformat": 4,
 "nbformat_minor": 5
}
