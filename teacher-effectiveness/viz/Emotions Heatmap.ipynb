{
 "cells": [
  {
   "cell_type": "code",
   "execution_count": 45,
   "metadata": {
    "collapsed": true
   },
   "outputs": [],
   "source": [
    "from __future__ import absolute_import, division, print_function\n",
    "import pandas as pd\n",
    "import numpy as np\n",
    "import plotly.plotly as py\n",
    "import plotly.graph_objs as go\n",
    "import plotly.offline as offline\n",
    "from collections import defaultdict"
   ]
  },
  {
   "cell_type": "code",
   "execution_count": 46,
   "metadata": {
    "collapsed": true
   },
   "outputs": [],
   "source": [
    "data_df = pd.read_csv('test_df.csv')"
   ]
  },
  {
   "cell_type": "code",
   "execution_count": 47,
   "metadata": {
    "collapsed": false
   },
   "outputs": [],
   "source": [
    "data_df['emotion_prob'] = data_df['emotion_prob'].replace(np.nan, 0)"
   ]
  },
  {
   "cell_type": "code",
   "execution_count": 48,
   "metadata": {
    "collapsed": true
   },
   "outputs": [],
   "source": [
    "data_df = data_df[data_df.emotion_prob > 0.5]"
   ]
  },
  {
   "cell_type": "code",
   "execution_count": 49,
   "metadata": {
    "collapsed": true
   },
   "outputs": [],
   "source": [
    "data_df.reset_index(drop = True, inplace = True)"
   ]
  },
  {
   "cell_type": "code",
   "execution_count": 50,
   "metadata": {
    "collapsed": true
   },
   "outputs": [],
   "source": [
    "data_df['minute'] = data_df['time'].apply(lambda x: int(x/60) + 1)"
   ]
  },
  {
   "cell_type": "code",
   "execution_count": 51,
   "metadata": {
    "collapsed": false
   },
   "outputs": [],
   "source": [
    "data_for_heatmap = data_df.groupby(['minute', 'emotion']).count()"
   ]
  },
  {
   "cell_type": "code",
   "execution_count": 52,
   "metadata": {
    "collapsed": true
   },
   "outputs": [],
   "source": [
    "emotions = ['happy', 'neutral', 'surprise', 'sad', 'angry', 'fear'] "
   ]
  },
  {
   "cell_type": "code",
   "execution_count": 53,
   "metadata": {
    "collapsed": false
   },
   "outputs": [],
   "source": [
    "def emotions_data_for_heatmap(emotions_list, length_of_video, data):\n",
    "    emotions_data = defaultdict(lambda: [])\n",
    "    for emo in emotions_list:\n",
    "        for i in range(len(length_of_video)):\n",
    "            try:\n",
    "                emotions_data[emo].append(data.loc[i+1]['username']['{}'.format(emo)])\n",
    "            except:\n",
    "                pass\n",
    "                emotions_data[emo].append(0)\n",
    "    return emotions_data"
   ]
  },
  {
   "cell_type": "code",
   "execution_count": 54,
   "metadata": {
    "collapsed": false
   },
   "outputs": [],
   "source": [
    "emotions_data = emotions_data_for_heatmap(emotions, range(len(list(np.unique(data_df['minute'])))), data_for_heatmap)"
   ]
  },
  {
   "cell_type": "code",
   "execution_count": 55,
   "metadata": {
    "collapsed": false
   },
   "outputs": [
    {
     "data": {
      "text/html": [
       "<script>requirejs.config({paths: { 'plotly': ['https://cdn.plot.ly/plotly-latest.min']},});if(!window.Plotly) {{require(['plotly'],function(plotly) {window.Plotly=plotly;});}}</script>"
      ]
     },
     "metadata": {},
     "output_type": "execute_result"
    },
    {
     "data": {
      "text/html": [
       "<div id=\"1f77d422-29f2-476d-977f-6bfec8ad2d9f\" style=\"height: 525px; width: 100%;\" class=\"plotly-graph-div\"></div><script type=\"text/javascript\">require([\"plotly\"], function(Plotly) { window.PLOTLYENV=window.PLOTLYENV || {};window.PLOTLYENV.BASE_URL=\"https://plot.ly\";Plotly.newPlot(\"1f77d422-29f2-476d-977f-6bfec8ad2d9f\", [{\"colorbar\": {\"tickvals\": [], \"titleside\": \"right\", \"title\": \"Infrequent - Frequent\"}, \"y\": [\"happy\", \"neutral\", \"surprise\", \"sad\", \"angry\", \"fear\"], \"z\": [[1634, 2073, 2368, 2220, 2256, 2259, 2328, 623], [1169, 1526, 1635, 1911, 1859, 1844, 1771, 88], [0, 2, 4, 2, 2, 2, 2, 0], [47, 359, 388, 377, 340, 356, 345, 108], [8, 23, 43, 25, 23, 23, 23, 1], [0, 5, 10, 5, 5, 5, 5, 0]], \"type\": \"heatmap\", \"x\": [1, 2, 3, 4, 5, 6, 7, 8]}], {\"title\": \"Frequency of Emotions Displayed During the Class by Minute\", \"xaxis\": {\"title\": \"Time (minutes)\"}, \"yaxis\": {\"title\": \"Emotions\"}}, {\"linkText\": \"Export to plot.ly\", \"showLink\": true})});</script>"
      ]
     },
     "metadata": {},
     "output_type": "execute_result"
    }
   ],
   "source": [
    "trace = go.Heatmap(\n",
    "    z = [\n",
    "        emotions_data['happy'],\n",
    "        emotions_data['neutral'],\n",
    "        emotions_data['surprise'],\n",
    "        emotions_data['sad'],\n",
    "        emotions_data['angry'],\n",
    "        emotions_data['fear']\n",
    "    ],\n",
    "    x = [i for i in list(np.unique(data_df['minute']))],\n",
    "    y = emotions,\n",
    "    colorbar = dict(\n",
    "        title = 'Infrequent - Frequent',\n",
    "        titleside = 'right',\n",
    "        tickvals = []\n",
    "    )\n",
    ")\n",
    "\n",
    "layout = go.Layout(\n",
    "    title = 'Frequency of Emotions Displayed During the Class by Minute',\n",
    "    xaxis = dict(\n",
    "        title = 'Time (minutes)'\n",
    "    ),\n",
    "    yaxis = dict(\n",
    "        title = 'Emotions'\n",
    "    )\n",
    ")\n",
    "\n",
    "data = [trace]\n",
    "\n",
    "fig = go.Figure(data = data, layout = layout)\n",
    "offline.init_notebook_mode(connected=True)\n",
    "offline.iplot(fig)"
   ]
  },
  {
   "cell_type": "code",
   "execution_count": null,
   "metadata": {
    "collapsed": false
   },
   "outputs": [],
   "source": []
  }
 ],
 "metadata": {
  "kernelspec": {
   "display_name": "Python 2",
   "language": "python",
   "name": "python2"
  },
  "language_info": {
   "codemirror_mode": {
    "name": "ipython",
    "version": 2
   },
   "file_extension": ".py",
   "mimetype": "text/x-python",
   "name": "python",
   "nbconvert_exporter": "python",
   "pygments_lexer": "ipython2",
   "version": "2.7.13"
  }
 },
 "nbformat": 4,
 "nbformat_minor": 2
}
