{
 "cells": [
  {
   "cell_type": "code",
   "execution_count": 27,
   "metadata": {
    "collapsed": true
   },
   "outputs": [],
   "source": [
    "#import libraries\n",
    "import pandas as pd\n",
    "import numpy as np\n",
    "import matplotlib.pyplot as plt\n",
    "import plotly.plotly as py\n",
    "import plotly.graph_objs as go\n",
    "import plotly.offline as offline\n",
    "import random\n",
    "from __future__ import absolute_import, division, print_function\n",
    "import re, string"
   ]
  },
  {
   "cell_type": "code",
   "execution_count": 28,
   "metadata": {
    "collapsed": false
   },
   "outputs": [],
   "source": [
    "# read in files\n",
    "dialogue = pd.read_csv('dialogue_typeDF.csv')\n",
    "insults = pd.read_csv('insultsDF.csv')\n",
    "response_pause = pd.read_csv('responsePause.csv')\n",
    "sentence = pd.read_csv('sentenceDF.csv')\n",
    "sentiment = pd.read_csv('sentimentDF.csv')\n",
    "laughter = pd.read_csv('laughter.csv')\n",
    "yelling = pd.read_csv('yelling.csv')"
   ]
  },
  {
   "cell_type": "markdown",
   "metadata": {},
   "source": [
    "# Percent of Time Talked by Teacher vs. Student"
   ]
  },
  {
   "cell_type": "code",
   "execution_count": 29,
   "metadata": {
    "collapsed": false
   },
   "outputs": [
    {
     "name": "stderr",
     "output_type": "stream",
     "text": [
      "C:\\ProgramData\\Anaconda2\\lib\\site-packages\\ipykernel\\__main__.py:3: SettingWithCopyWarning:\n",
      "\n",
      "\n",
      "A value is trying to be set on a copy of a slice from a DataFrame.\n",
      "Try using .loc[row_indexer,col_indexer] = value instead\n",
      "\n",
      "See the caveats in the documentation: http://pandas.pydata.org/pandas-docs/stable/indexing.html#indexing-view-versus-copy\n",
      "\n"
     ]
    }
   ],
   "source": [
    "sentence['time_talked'] = sentence['end_time'] - sentence['start_time']\n",
    "pauses_df = response_pause[['start_time','end_time']]\n",
    "pauses_df['response_duration'] = pauses_df['end_time'] - pauses_df['start_time']"
   ]
  },
  {
   "cell_type": "code",
   "execution_count": 30,
   "metadata": {
    "collapsed": true
   },
   "outputs": [],
   "source": [
    "teacher_df = sentence[sentence.speaker_label == 'spk_0']\n",
    "students_df = sentence[sentence.speaker_label != 'spk_0']"
   ]
  },
  {
   "cell_type": "code",
   "execution_count": 31,
   "metadata": {
    "collapsed": false
   },
   "outputs": [],
   "source": [
    "total_talk_and_pause = sentence['time_talked'].sum() + pauses_df['response_duration'].sum() "
   ]
  },
  {
   "cell_type": "code",
   "execution_count": 32,
   "metadata": {
    "collapsed": false
   },
   "outputs": [],
   "source": [
    "teacher_percent = round((teacher_df['time_talked'].sum()/total_talk_and_pause)*100, 2)\n",
    "students_percent = round((students_df['time_talked'].sum()/total_talk_and_pause)*100, 2)\n",
    "paused_percent = round((pauses_df['response_duration'].sum()/total_talk_and_pause)*100, 2)"
   ]
  },
  {
   "cell_type": "code",
   "execution_count": 33,
   "metadata": {
    "collapsed": false
   },
   "outputs": [
    {
     "data": {
      "text/html": [
       "<script>requirejs.config({paths: { 'plotly': ['https://cdn.plot.ly/plotly-latest.min']},});if(!window.Plotly) {{require(['plotly'],function(plotly) {window.Plotly=plotly;});}}</script>"
      ]
     },
     "metadata": {},
     "output_type": "execute_result"
    },
    {
     "data": {
      "text/html": [
       "<div id=\"1f635a8d-4f0a-4b3b-9c7d-1fd56477b0d9\" style=\"height: 525px; width: 100%;\" class=\"plotly-graph-div\"></div><script type=\"text/javascript\">require([\"plotly\"], function(Plotly) { window.PLOTLYENV=window.PLOTLYENV || {};window.PLOTLYENV.BASE_URL=\"https://plot.ly\";Plotly.newPlot(\"1f635a8d-4f0a-4b3b-9c7d-1fd56477b0d9\", [{\"name\": \"Teacher\", \"text\": \"Teacher\", \"marker\": {\"color\": \"rgb(0, 59, 174)\"}, \"y\": [60.67], \"x\": [0], \"type\": \"bar\"}, {\"name\": \"Students\", \"text\": \"Students\", \"marker\": {\"color\": \"rgb(229, 83, 0)\"}, \"y\": [33.64], \"x\": [0], \"type\": \"bar\"}, {\"y\": [5.69], \"text\": \"Paused\", \"type\": \"bar\", \"name\": \"Paused\", \"x\": [0]}], {\"barmode\": \"stack\", \"title\": \"Percent of Time Talked by Teacher vs. Student vs. Time Spent Paused\", \"annotations\": [{\"xref\": \"x\", \"yref\": \"y\", \"text\": \"The teacher spoke 60.67% of the time.\", \"y\": 50.67, \"x\": 0.6, \"showarrow\": false}, {\"xref\": \"x\", \"yref\": \"y\", \"text\": \"The students spoke 33.64% of the time.\", \"y\": 70.67, \"x\": 0.6, \"showarrow\": false}, {\"xref\": \"x\", \"yref\": \"y\", \"text\": \"The lesson was paused 5.69% of the time.\", \"y\": 97.155, \"x\": 0.6, \"showarrow\": false}], \"xaxis\": {\"showline\": false, \"range\": [0, 1], \"showticklabels\": false, \"showgrid\": false}, \"yaxis\": {\"showline\": true, \"range\": [0, 100], \"showticklabels\": true, \"showgrid\": false}}, {\"linkText\": \"Export to plot.ly\", \"showLink\": true})});</script>"
      ]
     },
     "metadata": {},
     "output_type": "execute_result"
    }
   ],
   "source": [
    "trace_teacher = go.Bar(\n",
    "    x = [0],\n",
    "    y = [teacher_percent],\n",
    "    name = 'Teacher',\n",
    "    text = 'Teacher',\n",
    "    marker = dict(color='rgb(0, 59, 174)'),\n",
    ")\n",
    "\n",
    "trace_students = go.Bar(\n",
    "    x = [0],\n",
    "    y = [students_percent],\n",
    "    name = 'Students',\n",
    "    text = 'Students',\n",
    "    marker = dict(color='rgb(229, 83, 0)'),\n",
    ")\n",
    "\n",
    "trace_pauses = go.Bar(\n",
    "    x = [0],\n",
    "    y = [paused_percent],\n",
    "    name = 'Paused',\n",
    "    text = 'Paused'\n",
    ")\n",
    "\n",
    "layout_1 = go.Layout(\n",
    "    barmode = 'stack',\n",
    "    title = 'Percent of Time Talked by Teacher vs. Student vs. Time Spent Paused',\n",
    "    xaxis = dict(\n",
    "        range = [0,1],\n",
    "        showline = False,\n",
    "        showgrid = False,\n",
    "        showticklabels = False\n",
    "    ),\n",
    "    yaxis = dict(\n",
    "        range = [0,100],\n",
    "        showgrid = False,\n",
    "        showline = True,\n",
    "        showticklabels = True,\n",
    "        ),\n",
    "    annotations=[\n",
    "        dict(\n",
    "            x = .6,\n",
    "            y = teacher_percent-10,\n",
    "            xref = 'x',\n",
    "            yref = 'y',\n",
    "            text = \"The teacher spoke {0}% of the time.\".format(teacher_percent),\n",
    "            showarrow = False,\n",
    "        ),\n",
    "        dict(\n",
    "            x = .6,\n",
    "            y = teacher_percent+10,\n",
    "            xref = 'x',\n",
    "            yref = 'y',\n",
    "            text = \"The students spoke {0}% of the time.\".format(students_percent),\n",
    "            showarrow = False,\n",
    "        ),\n",
    "        dict(\n",
    "            x = .6,\n",
    "            y = 100-paused_percent/2,\n",
    "            xref = 'x',\n",
    "            yref = 'y',\n",
    "            text = \"The lesson was paused {0}% of the time.\".format(paused_percent),\n",
    "            showarrow = False,           \n",
    "        ),\n",
    "    ]\n",
    ")\n",
    "\n",
    "data_1 = [trace_teacher, trace_students, trace_pauses] \n",
    "\n",
    "fig = go.Figure(data = data_1, layout = layout_1)\n",
    "offline.init_notebook_mode(connected=True)\n",
    "offline.iplot(fig)"
   ]
  },
  {
   "cell_type": "code",
   "execution_count": 34,
   "metadata": {
    "collapsed": false
   },
   "outputs": [],
   "source": [
    "teacher_start_end = list(teacher_df['start_time']) + list(teacher_df['end_time'])\n",
    "students_start_end = list(students_df['start_time']) + list(students_df['end_time'])"
   ]
  },
  {
   "cell_type": "code",
   "execution_count": 35,
   "metadata": {
    "collapsed": false
   },
   "outputs": [],
   "source": [
    "teacher_x_data = []\n",
    "for i in range(len(teacher_df['start_time'])):\n",
    "    start = list(teacher_df['start_time'])[i]/60\n",
    "    end = list(teacher_df['end_time'])[i]/60\n",
    "    start_end = start, end\n",
    "    teacher_x_data.append(start_end)"
   ]
  },
  {
   "cell_type": "code",
   "execution_count": 36,
   "metadata": {
    "collapsed": false
   },
   "outputs": [],
   "source": [
    "students_x_data = []\n",
    "for i in range(len(students_df['start_time'])):\n",
    "    start = list(students_df['start_time'])[i]/60\n",
    "    end = list(students_df['end_time'])[i]/60\n",
    "    start_end = start, end\n",
    "    students_x_data.append(start_end)"
   ]
  },
  {
   "cell_type": "code",
   "execution_count": 37,
   "metadata": {
    "collapsed": true
   },
   "outputs": [],
   "source": [
    "pauses_x_data = []\n",
    "for i in range(len(pauses_df['start_time'])):\n",
    "    start = list(pauses_df['start_time'])[i]/60\n",
    "    end = list(pauses_df['end_time'])[i]/60\n",
    "    start_end = start, end\n",
    "    pauses_x_data.append(start_end)"
   ]
  },
  {
   "cell_type": "code",
   "execution_count": 38,
   "metadata": {
    "collapsed": false
   },
   "outputs": [
    {
     "data": {
      "text/html": [
       "<script>requirejs.config({paths: { 'plotly': ['https://cdn.plot.ly/plotly-latest.min']},});if(!window.Plotly) {{require(['plotly'],function(plotly) {window.Plotly=plotly;});}}</script>"
      ]
     },
     "metadata": {},
     "output_type": "execute_result"
    },
    {
     "data": {
      "text/html": [
       "<div id=\"c588bf76-f183-4eb6-bb5b-f4f6186f9cbf\" style=\"height: 525px; width: 100%;\" class=\"plotly-graph-div\"></div><script type=\"text/javascript\">require([\"plotly\"], function(Plotly) { window.PLOTLYENV=window.PLOTLYENV || {};window.PLOTLYENV.BASE_URL=\"https://plot.ly\";Plotly.newPlot(\"c588bf76-f183-4eb6-bb5b-f4f6186f9cbf\", [{\"name\": \"Teacher\", \"marker\": {\"color\": \"rgb(0, 59, 174)\"}, \"mode\": \"lines + markers\", \"y\": [0.3333333333333333, 0.3333333333333333], \"x\": [0.12535, 0.2141833333333333], \"line\": {\"color\": \"rgb(0, 59, 174)\"}, \"type\": \"scatter\"}, {\"showlegend\": false, \"name\": \"Teacher\", \"marker\": {\"color\": \"rgb(0, 59, 174)\"}, \"mode\": \"lines + markers\", \"y\": [0.3333333333333333, 0.3333333333333333], \"x\": [0.22401666666666664, 0.25301666666666667], \"line\": {\"color\": \"rgb(0, 59, 174)\"}, \"type\": \"scatter\"}, {\"showlegend\": false, \"name\": \"Teacher\", \"marker\": {\"color\": \"rgb(0, 59, 174)\"}, \"mode\": \"lines + markers\", \"y\": [0.3333333333333333, 0.3333333333333333], \"x\": [0.2531833333333333, 0.3786833333333333], \"line\": {\"color\": \"rgb(0, 59, 174)\"}, \"type\": \"scatter\"}, {\"showlegend\": false, \"name\": \"Teacher\", \"marker\": {\"color\": \"rgb(0, 59, 174)\"}, \"mode\": \"lines + markers\", \"y\": [0.3333333333333333, 0.3333333333333333], \"x\": [0.3786833333333333, 0.3890166666666666], \"line\": {\"color\": \"rgb(0, 59, 174)\"}, \"type\": \"scatter\"}, {\"showlegend\": false, \"name\": \"Teacher\", \"marker\": {\"color\": \"rgb(0, 59, 174)\"}, \"mode\": \"lines + markers\", \"y\": [0.3333333333333333, 0.3333333333333333], \"x\": [0.39035, 0.47568333333333335], \"line\": {\"color\": \"rgb(0, 59, 174)\"}, \"type\": \"scatter\"}, {\"showlegend\": false, \"name\": \"Teacher\", \"marker\": {\"color\": \"rgb(0, 59, 174)\"}, \"mode\": \"lines + markers\", \"y\": [0.3333333333333333, 0.3333333333333333], \"x\": [0.47585, 0.48235], \"line\": {\"color\": \"rgb(0, 59, 174)\"}, \"type\": \"scatter\"}, {\"showlegend\": false, \"name\": \"Teacher\", \"marker\": {\"color\": \"rgb(0, 59, 174)\"}, \"mode\": \"lines + markers\", \"y\": [0.3333333333333333, 0.3333333333333333], \"x\": [0.48235, 0.5406833333333334], \"line\": {\"color\": \"rgb(0, 59, 174)\"}, \"type\": \"scatter\"}, {\"showlegend\": false, \"name\": \"Teacher\", \"marker\": {\"color\": \"rgb(0, 59, 174)\"}, \"mode\": \"lines + markers\", \"y\": [0.3333333333333333, 0.3333333333333333], \"x\": [0.5438500000000001, 0.5801833333333334], \"line\": {\"color\": \"rgb(0, 59, 174)\"}, \"type\": \"scatter\"}, {\"showlegend\": false, \"name\": \"Teacher\", \"marker\": {\"color\": \"rgb(0, 59, 174)\"}, \"mode\": \"lines + markers\", \"y\": [0.3333333333333333, 0.3333333333333333], \"x\": [0.5956833333333333, 0.6446833333333333], \"line\": {\"color\": \"rgb(0, 59, 174)\"}, \"type\": \"scatter\"}, {\"showlegend\": false, \"name\": \"Teacher\", \"marker\": {\"color\": \"rgb(0, 59, 174)\"}, \"mode\": \"lines + markers\", \"y\": [0.3333333333333333, 0.3333333333333333], \"x\": [0.6461833333333333, 0.66585], \"line\": {\"color\": \"rgb(0, 59, 174)\"}, \"type\": \"scatter\"}, {\"showlegend\": false, \"name\": \"Teacher\", \"marker\": {\"color\": \"rgb(0, 59, 174)\"}, \"mode\": \"lines + markers\", \"y\": [0.3333333333333333, 0.3333333333333333], \"x\": [0.6840166666666667, 0.6966833333333333], \"line\": {\"color\": \"rgb(0, 59, 174)\"}, \"type\": \"scatter\"}, {\"showlegend\": false, \"name\": \"Teacher\", \"marker\": {\"color\": \"rgb(0, 59, 174)\"}, \"mode\": \"lines + markers\", \"y\": [0.3333333333333333, 0.3333333333333333], \"x\": [0.6986833333333334, 0.7046833333333334], \"line\": {\"color\": \"rgb(0, 59, 174)\"}, \"type\": \"scatter\"}, {\"showlegend\": false, \"name\": \"Teacher\", \"marker\": {\"color\": \"rgb(0, 59, 174)\"}, \"mode\": \"lines + markers\", \"y\": [0.3333333333333333, 0.3333333333333333], \"x\": [0.7046833333333334, 0.7466833333333334], \"line\": {\"color\": \"rgb(0, 59, 174)\"}, \"type\": \"scatter\"}, {\"showlegend\": false, \"name\": \"Teacher\", \"marker\": {\"color\": \"rgb(0, 59, 174)\"}, \"mode\": \"lines + markers\", \"y\": [0.3333333333333333, 0.3333333333333333], \"x\": [0.7950166666666667, 0.8343500000000001], \"line\": {\"color\": \"rgb(0, 59, 174)\"}, \"type\": \"scatter\"}, {\"showlegend\": false, \"name\": \"Teacher\", \"marker\": {\"color\": \"rgb(0, 59, 174)\"}, \"mode\": \"lines + markers\", \"y\": [0.3333333333333333, 0.3333333333333333], \"x\": [0.8516833333333335, 0.8791833333333334], \"line\": {\"color\": \"rgb(0, 59, 174)\"}, \"type\": \"scatter\"}, {\"showlegend\": false, \"name\": \"Teacher\", \"marker\": {\"color\": \"rgb(0, 59, 174)\"}, \"mode\": \"lines + markers\", \"y\": [0.3333333333333333, 0.3333333333333333], \"x\": [0.8856833333333334, 1.1201833333333333], \"line\": {\"color\": \"rgb(0, 59, 174)\"}, \"type\": \"scatter\"}, {\"showlegend\": false, \"name\": \"Teacher\", \"marker\": {\"color\": \"rgb(0, 59, 174)\"}, \"mode\": \"lines + markers\", \"y\": [0.3333333333333333, 0.3333333333333333], \"x\": [1.12035, 1.2141833333333334], \"line\": {\"color\": \"rgb(0, 59, 174)\"}, \"type\": \"scatter\"}, {\"showlegend\": false, \"name\": \"Teacher\", \"marker\": {\"color\": \"rgb(0, 59, 174)\"}, \"mode\": \"lines + markers\", \"y\": [0.3333333333333333, 0.3333333333333333], \"x\": [1.2755166666666669, 1.2900166666666668], \"line\": {\"color\": \"rgb(0, 59, 174)\"}, \"type\": \"scatter\"}, {\"showlegend\": false, \"name\": \"Teacher\", \"marker\": {\"color\": \"rgb(0, 59, 174)\"}, \"mode\": \"lines + markers\", \"y\": [0.3333333333333333, 0.3333333333333333], \"x\": [1.2916833333333335, 1.3926833333333335], \"line\": {\"color\": \"rgb(0, 59, 174)\"}, \"type\": \"scatter\"}, {\"showlegend\": false, \"name\": \"Teacher\", \"marker\": {\"color\": \"rgb(0, 59, 174)\"}, \"mode\": \"lines + markers\", \"y\": [0.3333333333333333, 0.3333333333333333], \"x\": [1.3926833333333335, 1.41585], \"line\": {\"color\": \"rgb(0, 59, 174)\"}, \"type\": \"scatter\"}, {\"showlegend\": false, \"name\": \"Teacher\", \"marker\": {\"color\": \"rgb(0, 59, 174)\"}, \"mode\": \"lines + markers\", \"y\": [0.3333333333333333, 0.3333333333333333], \"x\": [1.4391833333333333, 1.4746833333333336], \"line\": {\"color\": \"rgb(0, 59, 174)\"}, \"type\": \"scatter\"}, {\"showlegend\": false, \"name\": \"Teacher\", \"marker\": {\"color\": \"rgb(0, 59, 174)\"}, \"mode\": \"lines + markers\", \"y\": [0.3333333333333333, 0.3333333333333333], \"x\": [1.53685, 1.5658500000000002], \"line\": {\"color\": \"rgb(0, 59, 174)\"}, \"type\": \"scatter\"}, {\"showlegend\": false, \"name\": \"Teacher\", \"marker\": {\"color\": \"rgb(0, 59, 174)\"}, \"mode\": \"lines + markers\", \"y\": [0.3333333333333333, 0.3333333333333333], \"x\": [1.5756833333333333, 1.5981833333333335], \"line\": {\"color\": \"rgb(0, 59, 174)\"}, \"type\": \"scatter\"}, {\"showlegend\": false, \"name\": \"Teacher\", \"marker\": {\"color\": \"rgb(0, 59, 174)\"}, \"mode\": \"lines + markers\", \"y\": [0.3333333333333333, 0.3333333333333333], \"x\": [1.5983500000000002, 1.62035], \"line\": {\"color\": \"rgb(0, 59, 174)\"}, \"type\": \"scatter\"}, {\"showlegend\": false, \"name\": \"Teacher\", \"marker\": {\"color\": \"rgb(0, 59, 174)\"}, \"mode\": \"lines + markers\", \"y\": [0.3333333333333333, 0.3333333333333333], \"x\": [1.6865166666666667, 7.270283333333333], \"line\": {\"color\": \"rgb(0, 59, 174)\"}, \"type\": \"scatter\"}, {\"showlegend\": false, \"name\": \"Teacher\", \"marker\": {\"color\": \"rgb(0, 59, 174)\"}, \"mode\": \"lines + markers\", \"y\": [0.3333333333333333, 0.3333333333333333], \"x\": [7.280783333333333, 7.331616666666666], \"line\": {\"color\": \"rgb(0, 59, 174)\"}, \"type\": \"scatter\"}, {\"showlegend\": false, \"name\": \"Teacher\", \"marker\": {\"color\": \"rgb(0, 59, 174)\"}, \"mode\": \"lines + markers\", \"y\": [0.3333333333333333, 0.3333333333333333], \"x\": [7.334783333333333, 7.44095], \"line\": {\"color\": \"rgb(0, 59, 174)\"}, \"type\": \"scatter\"}, {\"showlegend\": false, \"name\": \"Teacher\", \"marker\": {\"color\": \"rgb(0, 59, 174)\"}, \"mode\": \"lines + markers\", \"y\": [0.3333333333333333, 0.3333333333333333], \"x\": [7.44095, 7.456783333333333], \"line\": {\"color\": \"rgb(0, 59, 174)\"}, \"type\": \"scatter\"}, {\"showlegend\": false, \"name\": \"Teacher\", \"marker\": {\"color\": \"rgb(0, 59, 174)\"}, \"mode\": \"lines + markers\", \"y\": [0.3333333333333333, 0.3333333333333333], \"x\": [7.481116666666666, 7.490616666666666], \"line\": {\"color\": \"rgb(0, 59, 174)\"}, \"type\": \"scatter\"}, {\"showlegend\": false, \"name\": \"Teacher\", \"marker\": {\"color\": \"rgb(0, 59, 174)\"}, \"mode\": \"lines + markers\", \"y\": [0.3333333333333333, 0.3333333333333333], \"x\": [7.490616666666666, 7.511783333333333], \"line\": {\"color\": \"rgb(0, 59, 174)\"}, \"type\": \"scatter\"}, {\"showlegend\": false, \"name\": \"Teacher\", \"marker\": {\"color\": \"rgb(0, 59, 174)\"}, \"mode\": \"lines + markers\", \"y\": [0.3333333333333333, 0.3333333333333333], \"x\": [7.561616666666666, 7.590116666666666], \"line\": {\"color\": \"rgb(0, 59, 174)\"}, \"type\": \"scatter\"}, {\"showlegend\": false, \"name\": \"Teacher\", \"marker\": {\"color\": \"rgb(0, 59, 174)\"}, \"mode\": \"lines + markers\", \"y\": [0.3333333333333333, 0.3333333333333333], \"x\": [7.62545, 7.651283333333334], \"line\": {\"color\": \"rgb(0, 59, 174)\"}, \"type\": \"scatter\"}, {\"showlegend\": false, \"name\": \"Teacher\", \"marker\": {\"color\": \"rgb(0, 59, 174)\"}, \"mode\": \"lines + markers\", \"y\": [0.3333333333333333, 0.3333333333333333], \"x\": [7.651949999999999, 7.669449999999999], \"line\": {\"color\": \"rgb(0, 59, 174)\"}, \"type\": \"scatter\"}, {\"showlegend\": false, \"name\": \"Teacher\", \"marker\": {\"color\": \"rgb(0, 59, 174)\"}, \"mode\": \"lines + markers\", \"y\": [0.3333333333333333, 0.3333333333333333], \"x\": [7.669616666666666, 7.682616666666666], \"line\": {\"color\": \"rgb(0, 59, 174)\"}, \"type\": \"scatter\"}, {\"showlegend\": false, \"name\": \"Teacher\", \"marker\": {\"color\": \"rgb(0, 59, 174)\"}, \"mode\": \"lines + markers\", \"y\": [0.3333333333333333, 0.3333333333333333], \"x\": [7.682616666666666, 7.68995], \"line\": {\"color\": \"rgb(0, 59, 174)\"}, \"type\": \"scatter\"}, {\"showlegend\": false, \"name\": \"Teacher\", \"marker\": {\"color\": \"rgb(0, 59, 174)\"}, \"mode\": \"lines + markers\", \"y\": [0.3333333333333333, 0.3333333333333333], \"x\": [7.70445, 7.743616666666666], \"line\": {\"color\": \"rgb(0, 59, 174)\"}, \"type\": \"scatter\"}, {\"showlegend\": false, \"name\": \"Teacher\", \"marker\": {\"color\": \"rgb(0, 59, 174)\"}, \"mode\": \"lines + markers\", \"y\": [0.3333333333333333, 0.3333333333333333], \"x\": [7.743783333333332, 7.98795], \"line\": {\"color\": \"rgb(0, 59, 174)\"}, \"type\": \"scatter\"}, {\"showlegend\": false, \"name\": \"Teacher\", \"marker\": {\"color\": \"rgb(0, 59, 174)\"}, \"mode\": \"lines + markers\", \"y\": [0.3333333333333333, 0.3333333333333333], \"x\": [8.0337, 8.080033333333333], \"line\": {\"color\": \"rgb(0, 59, 174)\"}, \"type\": \"scatter\"}, {\"showlegend\": false, \"name\": \"Teacher\", \"marker\": {\"color\": \"rgb(0, 59, 174)\"}, \"mode\": \"lines + markers\", \"y\": [0.3333333333333333, 0.3333333333333333], \"x\": [8.089866666666667, 8.153033333333333], \"line\": {\"color\": \"rgb(0, 59, 174)\"}, \"type\": \"scatter\"}, {\"showlegend\": false, \"name\": \"Teacher\", \"marker\": {\"color\": \"rgb(0, 59, 174)\"}, \"mode\": \"lines + markers\", \"y\": [0.3333333333333333, 0.3333333333333333], \"x\": [8.153033333333333, 8.266699999999998], \"line\": {\"color\": \"rgb(0, 59, 174)\"}, \"type\": \"scatter\"}, {\"showlegend\": false, \"name\": \"Teacher\", \"marker\": {\"color\": \"rgb(0, 59, 174)\"}, \"mode\": \"lines + markers\", \"y\": [0.3333333333333333, 0.3333333333333333], \"x\": [8.2682, 8.297366666666667], \"line\": {\"color\": \"rgb(0, 59, 174)\"}, \"type\": \"scatter\"}, {\"showlegend\": false, \"name\": \"Teacher\", \"marker\": {\"color\": \"rgb(0, 59, 174)\"}, \"mode\": \"lines + markers\", \"y\": [0.3333333333333333, 0.3333333333333333], \"x\": [8.297366666666667, 8.391699999999998], \"line\": {\"color\": \"rgb(0, 59, 174)\"}, \"type\": \"scatter\"}, {\"showlegend\": false, \"name\": \"Teacher\", \"marker\": {\"color\": \"rgb(0, 59, 174)\"}, \"mode\": \"lines + markers\", \"y\": [0.3333333333333333, 0.3333333333333333], \"x\": [8.405199999999999, 8.448366666666667], \"line\": {\"color\": \"rgb(0, 59, 174)\"}, \"type\": \"scatter\"}, {\"showlegend\": false, \"name\": \"Teacher\", \"marker\": {\"color\": \"rgb(0, 59, 174)\"}, \"mode\": \"lines + markers\", \"y\": [0.3333333333333333, 0.3333333333333333], \"x\": [8.4897, 8.525033333333333], \"line\": {\"color\": \"rgb(0, 59, 174)\"}, \"type\": \"scatter\"}, {\"showlegend\": false, \"name\": \"Teacher\", \"marker\": {\"color\": \"rgb(0, 59, 174)\"}, \"mode\": \"lines + markers\", \"y\": [0.3333333333333333, 0.3333333333333333], \"x\": [8.561200000000001, 8.658366666666666], \"line\": {\"color\": \"rgb(0, 59, 174)\"}, \"type\": \"scatter\"}, {\"showlegend\": false, \"name\": \"Teacher\", \"marker\": {\"color\": \"rgb(0, 59, 174)\"}, \"mode\": \"lines + markers\", \"y\": [0.3333333333333333, 0.3333333333333333], \"x\": [8.683699999999998, 8.708366666666667], \"line\": {\"color\": \"rgb(0, 59, 174)\"}, \"type\": \"scatter\"}, {\"showlegend\": false, \"name\": \"Teacher\", \"marker\": {\"color\": \"rgb(0, 59, 174)\"}, \"mode\": \"lines + markers\", \"y\": [0.3333333333333333, 0.3333333333333333], \"x\": [8.742033333333332, 8.760033333333332], \"line\": {\"color\": \"rgb(0, 59, 174)\"}, \"type\": \"scatter\"}, {\"showlegend\": false, \"name\": \"Teacher\", \"marker\": {\"color\": \"rgb(0, 59, 174)\"}, \"mode\": \"lines + markers\", \"y\": [0.3333333333333333, 0.3333333333333333], \"x\": [8.787366666666665, 8.8862], \"line\": {\"color\": \"rgb(0, 59, 174)\"}, \"type\": \"scatter\"}, {\"showlegend\": false, \"name\": \"Teacher\", \"marker\": {\"color\": \"rgb(0, 59, 174)\"}, \"mode\": \"lines + markers\", \"y\": [0.3333333333333333, 0.3333333333333333], \"x\": [8.8862, 8.992199999999999], \"line\": {\"color\": \"rgb(0, 59, 174)\"}, \"type\": \"scatter\"}, {\"showlegend\": false, \"name\": \"Teacher\", \"marker\": {\"color\": \"rgb(0, 59, 174)\"}, \"mode\": \"lines + markers\", \"y\": [0.3333333333333333, 0.3333333333333333], \"x\": [8.992199999999999, 9.050033333333333], \"line\": {\"color\": \"rgb(0, 59, 174)\"}, \"type\": \"scatter\"}, {\"showlegend\": false, \"name\": \"Teacher\", \"marker\": {\"color\": \"rgb(0, 59, 174)\"}, \"mode\": \"lines + markers\", \"y\": [0.3333333333333333, 0.3333333333333333], \"x\": [9.056533333333332, 9.147866666666665], \"line\": {\"color\": \"rgb(0, 59, 174)\"}, \"type\": \"scatter\"}, {\"showlegend\": false, \"name\": \"Teacher\", \"marker\": {\"color\": \"rgb(0, 59, 174)\"}, \"mode\": \"lines + markers\", \"y\": [0.3333333333333333, 0.3333333333333333], \"x\": [9.147866666666665, 9.210033333333334], \"line\": {\"color\": \"rgb(0, 59, 174)\"}, \"type\": \"scatter\"}, {\"showlegend\": false, \"name\": \"Teacher\", \"marker\": {\"color\": \"rgb(0, 59, 174)\"}, \"mode\": \"lines + markers\", \"y\": [0.3333333333333333, 0.3333333333333333], \"x\": [9.253033333333333, 9.268366666666667], \"line\": {\"color\": \"rgb(0, 59, 174)\"}, \"type\": \"scatter\"}, {\"showlegend\": false, \"name\": \"Teacher\", \"marker\": {\"color\": \"rgb(0, 59, 174)\"}, \"mode\": \"lines + markers\", \"y\": [0.3333333333333333, 0.3333333333333333], \"x\": [9.3082, 9.374866666666666], \"line\": {\"color\": \"rgb(0, 59, 174)\"}, \"type\": \"scatter\"}, {\"showlegend\": false, \"name\": \"Teacher\", \"marker\": {\"color\": \"rgb(0, 59, 174)\"}, \"mode\": \"lines + markers\", \"y\": [0.3333333333333333, 0.3333333333333333], \"x\": [9.3787, 9.4027], \"line\": {\"color\": \"rgb(0, 59, 174)\"}, \"type\": \"scatter\"}, {\"showlegend\": false, \"name\": \"Teacher\", \"marker\": {\"color\": \"rgb(0, 59, 174)\"}, \"mode\": \"lines + markers\", \"y\": [0.3333333333333333, 0.3333333333333333], \"x\": [9.402866666666666, 9.576366666666667], \"line\": {\"color\": \"rgb(0, 59, 174)\"}, \"type\": \"scatter\"}, {\"showlegend\": false, \"name\": \"Teacher\", \"marker\": {\"color\": \"rgb(0, 59, 174)\"}, \"mode\": \"lines + markers\", \"y\": [0.3333333333333333, 0.3333333333333333], \"x\": [9.603533333333333, 9.625699999999998], \"line\": {\"color\": \"rgb(0, 59, 174)\"}, \"type\": \"scatter\"}, {\"showlegend\": false, \"name\": \"Teacher\", \"marker\": {\"color\": \"rgb(0, 59, 174)\"}, \"mode\": \"lines + markers\", \"y\": [0.3333333333333333, 0.3333333333333333], \"x\": [9.627033333333333, 9.637366666666667], \"line\": {\"color\": \"rgb(0, 59, 174)\"}, \"type\": \"scatter\"}, {\"showlegend\": false, \"name\": \"Teacher\", \"marker\": {\"color\": \"rgb(0, 59, 174)\"}, \"mode\": \"lines + markers\", \"y\": [0.3333333333333333, 0.3333333333333333], \"x\": [9.637366666666667, 9.748866666666666], \"line\": {\"color\": \"rgb(0, 59, 174)\"}, \"type\": \"scatter\"}, {\"showlegend\": false, \"name\": \"Teacher\", \"marker\": {\"color\": \"rgb(0, 59, 174)\"}, \"mode\": \"lines + markers\", \"y\": [0.3333333333333333, 0.3333333333333333], \"x\": [9.748866666666666, 9.858366666666665], \"line\": {\"color\": \"rgb(0, 59, 174)\"}, \"type\": \"scatter\"}, {\"showlegend\": false, \"name\": \"Teacher\", \"marker\": {\"color\": \"rgb(0, 59, 174)\"}, \"mode\": \"lines + markers\", \"y\": [0.3333333333333333, 0.3333333333333333], \"x\": [9.875866666666667, 9.948366666666665], \"line\": {\"color\": \"rgb(0, 59, 174)\"}, \"type\": \"scatter\"}, {\"showlegend\": false, \"name\": \"Teacher\", \"marker\": {\"color\": \"rgb(0, 59, 174)\"}, \"mode\": \"lines + markers\", \"y\": [0.3333333333333333, 0.3333333333333333], \"x\": [9.998866666666666, 10.03875], \"line\": {\"color\": \"rgb(0, 59, 174)\"}, \"type\": \"scatter\"}, {\"showlegend\": false, \"name\": \"Teacher\", \"marker\": {\"color\": \"rgb(0, 59, 174)\"}, \"mode\": \"lines + markers\", \"y\": [0.3333333333333333, 0.3333333333333333], \"x\": [10.055583333333335, 10.213083333333334], \"line\": {\"color\": \"rgb(0, 59, 174)\"}, \"type\": \"scatter\"}, {\"showlegend\": false, \"name\": \"Teacher\", \"marker\": {\"color\": \"rgb(0, 59, 174)\"}, \"mode\": \"lines + markers\", \"y\": [0.3333333333333333, 0.3333333333333333], \"x\": [10.23625, 10.289583333333333], \"line\": {\"color\": \"rgb(0, 59, 174)\"}, \"type\": \"scatter\"}, {\"showlegend\": false, \"name\": \"Teacher\", \"marker\": {\"color\": \"rgb(0, 59, 174)\"}, \"mode\": \"lines + markers\", \"y\": [0.3333333333333333, 0.3333333333333333], \"x\": [10.289583333333333, 10.859416666666668], \"line\": {\"color\": \"rgb(0, 59, 174)\"}, \"type\": \"scatter\"}, {\"showlegend\": false, \"name\": \"Teacher\", \"marker\": {\"color\": \"rgb(0, 59, 174)\"}, \"mode\": \"lines + markers\", \"y\": [0.3333333333333333, 0.3333333333333333], \"x\": [10.88175, 10.944749999999999], \"line\": {\"color\": \"rgb(0, 59, 174)\"}, \"type\": \"scatter\"}, {\"showlegend\": false, \"name\": \"Teacher\", \"marker\": {\"color\": \"rgb(0, 59, 174)\"}, \"mode\": \"lines + markers\", \"y\": [0.3333333333333333, 0.3333333333333333], \"x\": [11.003416666666668, 11.042916666666667], \"line\": {\"color\": \"rgb(0, 59, 174)\"}, \"type\": \"scatter\"}, {\"showlegend\": false, \"name\": \"Teacher\", \"marker\": {\"color\": \"rgb(0, 59, 174)\"}, \"mode\": \"lines + markers\", \"y\": [0.3333333333333333, 0.3333333333333333], \"x\": [11.044083333333333, 11.116416666666668], \"line\": {\"color\": \"rgb(0, 59, 174)\"}, \"type\": \"scatter\"}, {\"showlegend\": false, \"name\": \"Teacher\", \"marker\": {\"color\": \"rgb(0, 59, 174)\"}, \"mode\": \"lines + markers\", \"y\": [0.3333333333333333, 0.3333333333333333], \"x\": [11.124583333333334, 11.161416666666666], \"line\": {\"color\": \"rgb(0, 59, 174)\"}, \"type\": \"scatter\"}, {\"showlegend\": false, \"name\": \"Teacher\", \"marker\": {\"color\": \"rgb(0, 59, 174)\"}, \"mode\": \"lines + markers\", \"y\": [0.3333333333333333, 0.3333333333333333], \"x\": [11.208416666666666, 11.309750000000001], \"line\": {\"color\": \"rgb(0, 59, 174)\"}, \"type\": \"scatter\"}, {\"showlegend\": false, \"name\": \"Teacher\", \"marker\": {\"color\": \"rgb(0, 59, 174)\"}, \"mode\": \"lines + markers\", \"y\": [0.3333333333333333, 0.3333333333333333], \"x\": [11.340916666666667, 11.665083333333333], \"line\": {\"color\": \"rgb(0, 59, 174)\"}, \"type\": \"scatter\"}, {\"showlegend\": false, \"name\": \"Teacher\", \"marker\": {\"color\": \"rgb(0, 59, 174)\"}, \"mode\": \"lines + markers\", \"y\": [0.3333333333333333, 0.3333333333333333], \"x\": [11.665249999999999, 11.753416666666668], \"line\": {\"color\": \"rgb(0, 59, 174)\"}, \"type\": \"scatter\"}, {\"showlegend\": false, \"name\": \"Teacher\", \"marker\": {\"color\": \"rgb(0, 59, 174)\"}, \"mode\": \"lines + markers\", \"y\": [0.3333333333333333, 0.3333333333333333], \"x\": [11.761916666666668, 11.767416666666666], \"line\": {\"color\": \"rgb(0, 59, 174)\"}, \"type\": \"scatter\"}, {\"showlegend\": false, \"name\": \"Teacher\", \"marker\": {\"color\": \"rgb(0, 59, 174)\"}, \"mode\": \"lines + markers\", \"y\": [0.3333333333333333, 0.3333333333333333], \"x\": [11.767416666666666, 11.78225], \"line\": {\"color\": \"rgb(0, 59, 174)\"}, \"type\": \"scatter\"}, {\"showlegend\": false, \"name\": \"Teacher\", \"marker\": {\"color\": \"rgb(0, 59, 174)\"}, \"mode\": \"lines + markers\", \"y\": [0.3333333333333333, 0.3333333333333333], \"x\": [11.801916666666667, 11.80425], \"line\": {\"color\": \"rgb(0, 59, 174)\"}, \"type\": \"scatter\"}, {\"showlegend\": false, \"name\": \"Teacher\", \"marker\": {\"color\": \"rgb(0, 59, 174)\"}, \"mode\": \"lines + markers\", \"y\": [0.3333333333333333, 0.3333333333333333], \"x\": [11.80425, 11.841583333333334], \"line\": {\"color\": \"rgb(0, 59, 174)\"}, \"type\": \"scatter\"}, {\"showlegend\": false, \"name\": \"Teacher\", \"marker\": {\"color\": \"rgb(0, 59, 174)\"}, \"mode\": \"lines + markers\", \"y\": [0.3333333333333333, 0.3333333333333333], \"x\": [11.845416666666667, 11.92475], \"line\": {\"color\": \"rgb(0, 59, 174)\"}, \"type\": \"scatter\"}, {\"showlegend\": false, \"name\": \"Teacher\", \"marker\": {\"color\": \"rgb(0, 59, 174)\"}, \"mode\": \"lines + markers\", \"y\": [0.3333333333333333, 0.3333333333333333], \"x\": [11.93175, 11.954749999999999], \"line\": {\"color\": \"rgb(0, 59, 174)\"}, \"type\": \"scatter\"}, {\"showlegend\": false, \"name\": \"Teacher\", \"marker\": {\"color\": \"rgb(0, 59, 174)\"}, \"mode\": \"lines + markers\", \"y\": [0.3333333333333333, 0.3333333333333333], \"x\": [11.97125, 12.097366666666666], \"line\": {\"color\": \"rgb(0, 59, 174)\"}, \"type\": \"scatter\"}, {\"showlegend\": false, \"name\": \"Teacher\", \"marker\": {\"color\": \"rgb(0, 59, 174)\"}, \"mode\": \"lines + markers\", \"y\": [0.3333333333333333, 0.3333333333333333], \"x\": [12.097533333333333, 12.245533333333332], \"line\": {\"color\": \"rgb(0, 59, 174)\"}, \"type\": \"scatter\"}, {\"showlegend\": false, \"name\": \"Teacher\", \"marker\": {\"color\": \"rgb(0, 59, 174)\"}, \"mode\": \"lines + markers\", \"y\": [0.3333333333333333, 0.3333333333333333], \"x\": [12.2467, 12.4062], \"line\": {\"color\": \"rgb(0, 59, 174)\"}, \"type\": \"scatter\"}, {\"showlegend\": false, \"name\": \"Teacher\", \"marker\": {\"color\": \"rgb(0, 59, 174)\"}, \"mode\": \"lines + markers\", \"y\": [0.3333333333333333, 0.3333333333333333], \"x\": [12.4062, 12.438533333333334], \"line\": {\"color\": \"rgb(0, 59, 174)\"}, \"type\": \"scatter\"}, {\"showlegend\": false, \"name\": \"Teacher\", \"marker\": {\"color\": \"rgb(0, 59, 174)\"}, \"mode\": \"lines + markers\", \"y\": [0.3333333333333333, 0.3333333333333333], \"x\": [12.438533333333334, 12.4507], \"line\": {\"color\": \"rgb(0, 59, 174)\"}, \"type\": \"scatter\"}, {\"showlegend\": false, \"name\": \"Teacher\", \"marker\": {\"color\": \"rgb(0, 59, 174)\"}, \"mode\": \"lines + markers\", \"y\": [0.3333333333333333, 0.3333333333333333], \"x\": [12.463866666666666, 12.499533333333334], \"line\": {\"color\": \"rgb(0, 59, 174)\"}, \"type\": \"scatter\"}, {\"showlegend\": false, \"name\": \"Teacher\", \"marker\": {\"color\": \"rgb(0, 59, 174)\"}, \"mode\": \"lines + markers\", \"y\": [0.3333333333333333, 0.3333333333333333], \"x\": [12.5122, 12.5262], \"line\": {\"color\": \"rgb(0, 59, 174)\"}, \"type\": \"scatter\"}, {\"showlegend\": false, \"name\": \"Teacher\", \"marker\": {\"color\": \"rgb(0, 59, 174)\"}, \"mode\": \"lines + markers\", \"y\": [0.3333333333333333, 0.3333333333333333], \"x\": [12.528866666666666, 12.670366666666666], \"line\": {\"color\": \"rgb(0, 59, 174)\"}, \"type\": \"scatter\"}, {\"showlegend\": false, \"name\": \"Teacher\", \"marker\": {\"color\": \"rgb(0, 59, 174)\"}, \"mode\": \"lines + markers\", \"y\": [0.3333333333333333, 0.3333333333333333], \"x\": [12.698866666666667, 12.707366666666667], \"line\": {\"color\": \"rgb(0, 59, 174)\"}, \"type\": \"scatter\"}, {\"showlegend\": false, \"name\": \"Teacher\", \"marker\": {\"color\": \"rgb(0, 59, 174)\"}, \"mode\": \"lines + markers\", \"y\": [0.3333333333333333, 0.3333333333333333], \"x\": [12.723866666666668, 12.8307], \"line\": {\"color\": \"rgb(0, 59, 174)\"}, \"type\": \"scatter\"}, {\"showlegend\": false, \"name\": \"Teacher\", \"marker\": {\"color\": \"rgb(0, 59, 174)\"}, \"mode\": \"lines + markers\", \"y\": [0.3333333333333333, 0.3333333333333333], \"x\": [12.848866666666668, 12.869866666666667], \"line\": {\"color\": \"rgb(0, 59, 174)\"}, \"type\": \"scatter\"}, {\"showlegend\": false, \"name\": \"Teacher\", \"marker\": {\"color\": \"rgb(0, 59, 174)\"}, \"mode\": \"lines + markers\", \"y\": [0.3333333333333333, 0.3333333333333333], \"x\": [12.870033333333334, 12.924033333333334], \"line\": {\"color\": \"rgb(0, 59, 174)\"}, \"type\": \"scatter\"}, {\"name\": \"Students\", \"marker\": {\"color\": \"rgb(229, 83, 0)\"}, \"mode\": \"lines + markers\", \"y\": [0.6666666666666666, 0.6666666666666666], \"x\": [0.11901666666666667, 0.12535], \"line\": {\"color\": \"rgb(229, 83, 0)\"}, \"type\": \"scatter\"}, {\"showlegend\": false, \"name\": \"Students\", \"marker\": {\"color\": \"rgb(229, 83, 0)\"}, \"mode\": \"lines + markers\", \"y\": [0.6666666666666666, 0.6666666666666666], \"x\": [0.32234999999999997, 0.3560166666666667], \"line\": {\"color\": \"rgb(229, 83, 0)\"}, \"type\": \"scatter\"}, {\"showlegend\": false, \"name\": \"Students\", \"marker\": {\"color\": \"rgb(229, 83, 0)\"}, \"mode\": \"lines + markers\", \"y\": [0.6666666666666666, 0.6666666666666666], \"x\": [0.46035, 0.4696833333333333], \"line\": {\"color\": \"rgb(229, 83, 0)\"}, \"type\": \"scatter\"}, {\"showlegend\": false, \"name\": \"Students\", \"marker\": {\"color\": \"rgb(229, 83, 0)\"}, \"mode\": \"lines + markers\", \"y\": [0.6666666666666666, 0.6666666666666666], \"x\": [0.7610166666666667, 0.7915166666666668], \"line\": {\"color\": \"rgb(229, 83, 0)\"}, \"type\": \"scatter\"}, {\"showlegend\": false, \"name\": \"Students\", \"marker\": {\"color\": \"rgb(229, 83, 0)\"}, \"mode\": \"lines + markers\", \"y\": [0.6666666666666666, 0.6666666666666666], \"x\": [1.26735, 1.27535], \"line\": {\"color\": \"rgb(229, 83, 0)\"}, \"type\": \"scatter\"}, {\"showlegend\": false, \"name\": \"Students\", \"marker\": {\"color\": \"rgb(229, 83, 0)\"}, \"mode\": \"lines + markers\", \"y\": [0.6666666666666666, 0.6666666666666666], \"x\": [1.3596833333333334, 1.3690166666666668], \"line\": {\"color\": \"rgb(229, 83, 0)\"}, \"type\": \"scatter\"}, {\"showlegend\": false, \"name\": \"Students\", \"marker\": {\"color\": \"rgb(229, 83, 0)\"}, \"mode\": \"lines + markers\", \"y\": [0.6666666666666666, 0.6666666666666666], \"x\": [1.48735, 1.53685], \"line\": {\"color\": \"rgb(229, 83, 0)\"}, \"type\": \"scatter\"}, {\"showlegend\": false, \"name\": \"Students\", \"marker\": {\"color\": \"rgb(229, 83, 0)\"}, \"mode\": \"lines + markers\", \"y\": [0.6666666666666666, 0.6666666666666666], \"x\": [1.7640166666666668, 6.861616666666666], \"line\": {\"color\": \"rgb(229, 83, 0)\"}, \"type\": \"scatter\"}, {\"showlegend\": false, \"name\": \"Students\", \"marker\": {\"color\": \"rgb(229, 83, 0)\"}, \"mode\": \"lines + markers\", \"y\": [0.6666666666666666, 0.6666666666666666], \"x\": [7.418283333333333, 7.431616666666667], \"line\": {\"color\": \"rgb(229, 83, 0)\"}, \"type\": \"scatter\"}, {\"showlegend\": false, \"name\": \"Students\", \"marker\": {\"color\": \"rgb(229, 83, 0)\"}, \"mode\": \"lines + markers\", \"y\": [0.6666666666666666, 0.6666666666666666], \"x\": [7.476616666666667, 7.481116666666666], \"line\": {\"color\": \"rgb(229, 83, 0)\"}, \"type\": \"scatter\"}, {\"showlegend\": false, \"name\": \"Students\", \"marker\": {\"color\": \"rgb(229, 83, 0)\"}, \"mode\": \"lines + markers\", \"y\": [0.6666666666666666, 0.6666666666666666], \"x\": [7.541616666666666, 7.625283333333333], \"line\": {\"color\": \"rgb(229, 83, 0)\"}, \"type\": \"scatter\"}, {\"showlegend\": false, \"name\": \"Students\", \"marker\": {\"color\": \"rgb(229, 83, 0)\"}, \"mode\": \"lines + markers\", \"y\": [0.6666666666666666, 0.6666666666666666], \"x\": [7.7014499999999995, 7.70445], \"line\": {\"color\": \"rgb(229, 83, 0)\"}, \"type\": \"scatter\"}, {\"showlegend\": false, \"name\": \"Students\", \"marker\": {\"color\": \"rgb(229, 83, 0)\"}, \"mode\": \"lines + markers\", \"y\": [0.6666666666666666, 0.6666666666666666], \"x\": [7.949949999999999, 7.958449999999999], \"line\": {\"color\": \"rgb(229, 83, 0)\"}, \"type\": \"scatter\"}, {\"showlegend\": false, \"name\": \"Students\", \"marker\": {\"color\": \"rgb(229, 83, 0)\"}, \"mode\": \"lines + markers\", \"y\": [0.6666666666666666, 0.6666666666666666], \"x\": [8.2312, 8.2342], \"line\": {\"color\": \"rgb(229, 83, 0)\"}, \"type\": \"scatter\"}, {\"showlegend\": false, \"name\": \"Students\", \"marker\": {\"color\": \"rgb(229, 83, 0)\"}, \"mode\": \"lines + markers\", \"y\": [0.6666666666666666, 0.6666666666666666], \"x\": [8.472533333333333, 8.4897], \"line\": {\"color\": \"rgb(229, 83, 0)\"}, \"type\": \"scatter\"}, {\"showlegend\": false, \"name\": \"Students\", \"marker\": {\"color\": \"rgb(229, 83, 0)\"}, \"mode\": \"lines + markers\", \"y\": [0.6666666666666666, 0.6666666666666666], \"x\": [8.542033333333332, 8.551866666666665], \"line\": {\"color\": \"rgb(229, 83, 0)\"}, \"type\": \"scatter\"}, {\"showlegend\": false, \"name\": \"Students\", \"marker\": {\"color\": \"rgb(229, 83, 0)\"}, \"mode\": \"lines + markers\", \"y\": [0.6666666666666666, 0.6666666666666666], \"x\": [8.679699999999999, 8.683699999999998], \"line\": {\"color\": \"rgb(229, 83, 0)\"}, \"type\": \"scatter\"}, {\"showlegend\": false, \"name\": \"Students\", \"marker\": {\"color\": \"rgb(229, 83, 0)\"}, \"mode\": \"lines + markers\", \"y\": [0.6666666666666666, 0.6666666666666666], \"x\": [8.723700000000001, 8.741866666666665], \"line\": {\"color\": \"rgb(229, 83, 0)\"}, \"type\": \"scatter\"}, {\"showlegend\": false, \"name\": \"Students\", \"marker\": {\"color\": \"rgb(229, 83, 0)\"}, \"mode\": \"lines + markers\", \"y\": [0.6666666666666666, 0.6666666666666666], \"x\": [8.784866666666666, 8.787366666666665], \"line\": {\"color\": \"rgb(229, 83, 0)\"}, \"type\": \"scatter\"}, {\"showlegend\": false, \"name\": \"Students\", \"marker\": {\"color\": \"rgb(229, 83, 0)\"}, \"mode\": \"lines + markers\", \"y\": [0.6666666666666666, 0.6666666666666666], \"x\": [8.904033333333333, 8.972199999999999], \"line\": {\"color\": \"rgb(229, 83, 0)\"}, \"type\": \"scatter\"}, {\"showlegend\": false, \"name\": \"Students\", \"marker\": {\"color\": \"rgb(229, 83, 0)\"}, \"mode\": \"lines + markers\", \"y\": [0.6666666666666666, 0.6666666666666666], \"x\": [9.017199999999999, 9.027199999999999], \"line\": {\"color\": \"rgb(229, 83, 0)\"}, \"type\": \"scatter\"}, {\"showlegend\": false, \"name\": \"Students\", \"marker\": {\"color\": \"rgb(229, 83, 0)\"}, \"mode\": \"lines + markers\", \"y\": [0.6666666666666666, 0.6666666666666666], \"x\": [9.191699999999999, 9.194533333333334], \"line\": {\"color\": \"rgb(229, 83, 0)\"}, \"type\": \"scatter\"}, {\"showlegend\": false, \"name\": \"Students\", \"marker\": {\"color\": \"rgb(229, 83, 0)\"}, \"mode\": \"lines + markers\", \"y\": [0.6666666666666666, 0.6666666666666666], \"x\": [9.248199999999999, 9.253033333333333], \"line\": {\"color\": \"rgb(229, 83, 0)\"}, \"type\": \"scatter\"}, {\"showlegend\": false, \"name\": \"Students\", \"marker\": {\"color\": \"rgb(229, 83, 0)\"}, \"mode\": \"lines + markers\", \"y\": [0.6666666666666666, 0.6666666666666666], \"x\": [9.516533333333333, 9.595533333333332], \"line\": {\"color\": \"rgb(229, 83, 0)\"}, \"type\": \"scatter\"}, {\"showlegend\": false, \"name\": \"Students\", \"marker\": {\"color\": \"rgb(229, 83, 0)\"}, \"mode\": \"lines + markers\", \"y\": [0.6666666666666666, 0.6666666666666666], \"x\": [9.595699999999999, 9.603533333333333], \"line\": {\"color\": \"rgb(229, 83, 0)\"}, \"type\": \"scatter\"}, {\"showlegend\": false, \"name\": \"Students\", \"marker\": {\"color\": \"rgb(229, 83, 0)\"}, \"mode\": \"lines + markers\", \"y\": [0.6666666666666666, 0.6666666666666666], \"x\": [10.359916666666667, 10.67075], \"line\": {\"color\": \"rgb(229, 83, 0)\"}, \"type\": \"scatter\"}, {\"showlegend\": false, \"name\": \"Students\", \"marker\": {\"color\": \"rgb(229, 83, 0)\"}, \"mode\": \"lines + markers\", \"y\": [0.6666666666666666, 0.6666666666666666], \"x\": [10.877083333333333, 11.003250000000001], \"line\": {\"color\": \"rgb(229, 83, 0)\"}, \"type\": \"scatter\"}, {\"showlegend\": false, \"name\": \"Students\", \"marker\": {\"color\": \"rgb(229, 83, 0)\"}, \"mode\": \"lines + markers\", \"y\": [0.6666666666666666, 0.6666666666666666], \"x\": [11.195416666666667, 11.27925], \"line\": {\"color\": \"rgb(229, 83, 0)\"}, \"type\": \"scatter\"}, {\"showlegend\": false, \"name\": \"Students\", \"marker\": {\"color\": \"rgb(229, 83, 0)\"}, \"mode\": \"lines + markers\", \"y\": [0.6666666666666666, 0.6666666666666666], \"x\": [11.323916666666666, 11.540583333333332], \"line\": {\"color\": \"rgb(229, 83, 0)\"}, \"type\": \"scatter\"}, {\"showlegend\": false, \"name\": \"Students\", \"marker\": {\"color\": \"rgb(229, 83, 0)\"}, \"mode\": \"lines + markers\", \"y\": [0.6666666666666666, 0.6666666666666666], \"x\": [11.721416666666666, 11.732083333333332], \"line\": {\"color\": \"rgb(229, 83, 0)\"}, \"type\": \"scatter\"}, {\"showlegend\": false, \"name\": \"Students\", \"marker\": {\"color\": \"rgb(229, 83, 0)\"}, \"mode\": \"lines + markers\", \"y\": [0.6666666666666666, 0.6666666666666666], \"x\": [11.787916666666666, 11.801916666666667], \"line\": {\"color\": \"rgb(229, 83, 0)\"}, \"type\": \"scatter\"}, {\"showlegend\": false, \"name\": \"Students\", \"marker\": {\"color\": \"rgb(229, 83, 0)\"}, \"mode\": \"lines + markers\", \"y\": [0.6666666666666666, 0.6666666666666666], \"x\": [12.025916666666665, 12.054866666666666], \"line\": {\"color\": \"rgb(229, 83, 0)\"}, \"type\": \"scatter\"}, {\"showlegend\": false, \"name\": \"Students\", \"marker\": {\"color\": \"rgb(229, 83, 0)\"}, \"mode\": \"lines + markers\", \"y\": [0.6666666666666666, 0.6666666666666666], \"x\": [12.6577, 12.660366666666667], \"line\": {\"color\": \"rgb(229, 83, 0)\"}, \"type\": \"scatter\"}, {\"showlegend\": false, \"name\": \"Students\", \"marker\": {\"color\": \"rgb(229, 83, 0)\"}, \"mode\": \"lines + markers\", \"y\": [0.6666666666666666, 0.6666666666666666], \"x\": [12.691866666666666, 12.698866666666667], \"line\": {\"color\": \"rgb(229, 83, 0)\"}, \"type\": \"scatter\"}, {\"showlegend\": false, \"name\": \"Students\", \"marker\": {\"color\": \"rgb(229, 83, 0)\"}, \"mode\": \"lines + markers\", \"y\": [0.6666666666666666, 0.6666666666666666], \"x\": [12.924033333333334, 12.932033333333333], \"line\": {\"color\": \"rgb(229, 83, 0)\"}, \"type\": \"scatter\"}, {\"name\": \"pause\", \"marker\": {\"color\": \"rgb(282, 0, 0)\", \"symbol\": \"triangle-down\"}, \"mode\": \"lines + markers\", \"y\": [0.5, 0.5], \"x\": [0.5438500000000001, 0.5801833333333334], \"line\": {\"color\": \"rgb(282, 0, 0)\"}, \"type\": \"scatter\"}, {\"showlegend\": false, \"name\": \"pause\", \"marker\": {\"color\": \"rgb(282, 0, 0)\", \"symbol\": \"triangle-down\"}, \"mode\": \"lines + markers\", \"y\": [0.5, 0.5], \"x\": [0.5956833333333333, 0.6446833333333333], \"line\": {\"color\": \"rgb(282, 0, 0)\"}, \"type\": \"scatter\"}, {\"showlegend\": false, \"name\": \"pause\", \"marker\": {\"color\": \"rgb(282, 0, 0)\", \"symbol\": \"triangle-down\"}, \"mode\": \"lines + markers\", \"y\": [0.5, 0.5], \"x\": [0.7950166666666667, 0.8343500000000001], \"line\": {\"color\": \"rgb(282, 0, 0)\"}, \"type\": \"scatter\"}, {\"showlegend\": false, \"name\": \"pause\", \"marker\": {\"color\": \"rgb(282, 0, 0)\", \"symbol\": \"triangle-down\"}, \"mode\": \"lines + markers\", \"y\": [0.5, 0.5], \"x\": [1.12035, 1.2141833333333334], \"line\": {\"color\": \"rgb(282, 0, 0)\"}, \"type\": \"scatter\"}, {\"showlegend\": false, \"name\": \"pause\", \"marker\": {\"color\": \"rgb(282, 0, 0)\", \"symbol\": \"triangle-down\"}, \"mode\": \"lines + markers\", \"y\": [0.5, 0.5], \"x\": [7.44095, 7.456783333333333], \"line\": {\"color\": \"rgb(282, 0, 0)\"}, \"type\": \"scatter\"}, {\"showlegend\": false, \"name\": \"pause\", \"marker\": {\"color\": \"rgb(282, 0, 0)\", \"symbol\": \"triangle-down\"}, \"mode\": \"lines + markers\", \"y\": [0.5, 0.5], \"x\": [7.481116666666666, 7.490616666666666], \"line\": {\"color\": \"rgb(282, 0, 0)\"}, \"type\": \"scatter\"}, {\"showlegend\": false, \"name\": \"pause\", \"marker\": {\"color\": \"rgb(282, 0, 0)\", \"symbol\": \"triangle-down\"}, \"mode\": \"lines + markers\", \"y\": [0.5, 0.5], \"x\": [7.490616666666666, 7.511783333333333], \"line\": {\"color\": \"rgb(282, 0, 0)\"}, \"type\": \"scatter\"}, {\"showlegend\": false, \"name\": \"pause\", \"marker\": {\"color\": \"rgb(282, 0, 0)\", \"symbol\": \"triangle-down\"}, \"mode\": \"lines + markers\", \"y\": [0.5, 0.5], \"x\": [7.541616666666666, 7.625283333333333], \"line\": {\"color\": \"rgb(282, 0, 0)\"}, \"type\": \"scatter\"}, {\"showlegend\": false, \"name\": \"pause\", \"marker\": {\"color\": \"rgb(282, 0, 0)\", \"symbol\": \"triangle-down\"}, \"mode\": \"lines + markers\", \"y\": [0.5, 0.5], \"x\": [7.561616666666666, 7.590116666666666], \"line\": {\"color\": \"rgb(282, 0, 0)\"}, \"type\": \"scatter\"}, {\"showlegend\": false, \"name\": \"pause\", \"marker\": {\"color\": \"rgb(282, 0, 0)\", \"symbol\": \"triangle-down\"}, \"mode\": \"lines + markers\", \"y\": [0.5, 0.5], \"x\": [7.62545, 7.651283333333334], \"line\": {\"color\": \"rgb(282, 0, 0)\"}, \"type\": \"scatter\"}, {\"showlegend\": false, \"name\": \"pause\", \"marker\": {\"color\": \"rgb(282, 0, 0)\", \"symbol\": \"triangle-down\"}, \"mode\": \"lines + markers\", \"y\": [0.5, 0.5], \"x\": [7.7014499999999995, 7.70445], \"line\": {\"color\": \"rgb(282, 0, 0)\"}, \"type\": \"scatter\"}, {\"showlegend\": false, \"name\": \"pause\", \"marker\": {\"color\": \"rgb(282, 0, 0)\", \"symbol\": \"triangle-down\"}, \"mode\": \"lines + markers\", \"y\": [0.5, 0.5], \"x\": [8.2682, 8.297366666666667], \"line\": {\"color\": \"rgb(282, 0, 0)\"}, \"type\": \"scatter\"}, {\"showlegend\": false, \"name\": \"pause\", \"marker\": {\"color\": \"rgb(282, 0, 0)\", \"symbol\": \"triangle-down\"}, \"mode\": \"lines + markers\", \"y\": [0.5, 0.5], \"x\": [8.405199999999999, 8.448366666666667], \"line\": {\"color\": \"rgb(282, 0, 0)\"}, \"type\": \"scatter\"}, {\"showlegend\": false, \"name\": \"pause\", \"marker\": {\"color\": \"rgb(282, 0, 0)\", \"symbol\": \"triangle-down\"}, \"mode\": \"lines + markers\", \"y\": [0.5, 0.5], \"x\": [8.787366666666665, 8.8862], \"line\": {\"color\": \"rgb(282, 0, 0)\"}, \"type\": \"scatter\"}, {\"showlegend\": false, \"name\": \"pause\", \"marker\": {\"color\": \"rgb(282, 0, 0)\", \"symbol\": \"triangle-down\"}, \"mode\": \"lines + markers\", \"y\": [0.5, 0.5], \"x\": [8.8862, 8.992199999999999], \"line\": {\"color\": \"rgb(282, 0, 0)\"}, \"type\": \"scatter\"}, {\"showlegend\": false, \"name\": \"pause\", \"marker\": {\"color\": \"rgb(282, 0, 0)\", \"symbol\": \"triangle-down\"}, \"mode\": \"lines + markers\", \"y\": [0.5, 0.5], \"x\": [8.992199999999999, 9.050033333333333], \"line\": {\"color\": \"rgb(282, 0, 0)\"}, \"type\": \"scatter\"}, {\"showlegend\": false, \"name\": \"pause\", \"marker\": {\"color\": \"rgb(282, 0, 0)\", \"symbol\": \"triangle-down\"}, \"mode\": \"lines + markers\", \"y\": [0.5, 0.5], \"x\": [9.516533333333333, 9.595533333333332], \"line\": {\"color\": \"rgb(282, 0, 0)\"}, \"type\": \"scatter\"}, {\"showlegend\": false, \"name\": \"pause\", \"marker\": {\"color\": \"rgb(282, 0, 0)\", \"symbol\": \"triangle-down\"}, \"mode\": \"lines + markers\", \"y\": [0.5, 0.5], \"x\": [11.124583333333334, 11.161416666666666], \"line\": {\"color\": \"rgb(282, 0, 0)\"}, \"type\": \"scatter\"}, {\"showlegend\": false, \"name\": \"pause\", \"marker\": {\"color\": \"rgb(282, 0, 0)\", \"symbol\": \"triangle-down\"}, \"mode\": \"lines + markers\", \"y\": [0.5, 0.5], \"x\": [11.80425, 11.841583333333334], \"line\": {\"color\": \"rgb(282, 0, 0)\"}, \"type\": \"scatter\"}, {\"showlegend\": false, \"name\": \"pause\", \"marker\": {\"color\": \"rgb(282, 0, 0)\", \"symbol\": \"triangle-down\"}, \"mode\": \"lines + markers\", \"y\": [0.5, 0.5], \"x\": [11.93175, 11.954749999999999], \"line\": {\"color\": \"rgb(282, 0, 0)\"}, \"type\": \"scatter\"}, {\"showlegend\": false, \"name\": \"pause\", \"marker\": {\"color\": \"rgb(282, 0, 0)\", \"symbol\": \"triangle-down\"}, \"mode\": \"lines + markers\", \"y\": [0.5, 0.5], \"x\": [12.438533333333334, 12.4507], \"line\": {\"color\": \"rgb(282, 0, 0)\"}, \"type\": \"scatter\"}, {\"showlegend\": false, \"name\": \"pause\", \"marker\": {\"color\": \"rgb(282, 0, 0)\", \"symbol\": \"triangle-down\"}, \"mode\": \"lines + markers\", \"y\": [0.5, 0.5], \"x\": [12.528866666666666, 12.670366666666666], \"line\": {\"color\": \"rgb(282, 0, 0)\"}, \"type\": \"scatter\"}, {\"showlegend\": false, \"name\": \"pause\", \"marker\": {\"color\": \"rgb(282, 0, 0)\", \"symbol\": \"triangle-down\"}, \"mode\": \"lines + markers\", \"y\": [0.5, 0.5], \"x\": [12.6577, 12.660366666666667], \"line\": {\"color\": \"rgb(282, 0, 0)\"}, \"type\": \"scatter\"}, {\"showlegend\": false, \"name\": \"pause\", \"marker\": {\"color\": \"rgb(282, 0, 0)\", \"symbol\": \"triangle-down\"}, \"mode\": \"lines + markers\", \"y\": [0.5, 0.5], \"x\": [12.698866666666667, 12.707366666666667], \"line\": {\"color\": \"rgb(282, 0, 0)\"}, \"type\": \"scatter\"}], {\"title\": \"Teacher vs. Student\", \"xaxis\": {\"zeroline\": true, \"showline\": true, \"title\": \"Time (minutes)\"}, \"yaxis\": {\"showticklabels\": false, \"ticks\": \"\", \"showgrid\": false, \"range\": [0, 1], \"zeroline\": false, \"showline\": false}}, {\"linkText\": \"Export to plot.ly\", \"showLink\": true})});</script>"
      ]
     },
     "metadata": {},
     "output_type": "execute_result"
    }
   ],
   "source": [
    "# iterate over the start and end time data to create a plot that links the start and end time for each\n",
    "# instance in which someone speaks. For example, spk_1 from 7.141 - 7.521 are connected by a line and \n",
    "# the next time spk_1 speaks is from 19.341 - 21.361, and these points are connected by a line, but\n",
    "# there is a gap in between these two speaking instances.\n",
    "\n",
    "\n",
    "# create any empty list to append with graph data\n",
    "traces = []\n",
    "\n",
    "# spk_0 data\n",
    "# iterate over the list of start and end times to create separate traces for every speaking instance\n",
    "for i in range(len(teacher_x_data)):\n",
    "# use only the first instance to create a legend, or there will be a legend entry for every speaking instance\n",
    "    if i == 0:\n",
    "        traces.append(go.Scatter(\n",
    "            x = teacher_x_data[i],\n",
    "            y = [1/3,1/3],\n",
    "            mode = 'lines + markers',\n",
    "            line = dict(color = 'rgb(0, 59, 174)'),\n",
    "            marker = dict(color = 'rgb(0, 59, 174)'),\n",
    "            name = 'Teacher'\n",
    "        ))\n",
    "# hide the legend for the rest of the speaking instances so that there is only one legend entry for each speaker,\n",
    "# rather than each speaking instance\n",
    "    else:\n",
    "        traces.append(go.Scatter(\n",
    "            x = teacher_x_data[i],\n",
    "            y = [1/3,1/3],\n",
    "            mode = 'lines + markers',\n",
    "            line = dict(color = 'rgb(0, 59, 174)'),\n",
    "            marker = dict(color = 'rgb(0, 59, 174)'),\n",
    "            name = 'Teacher',\n",
    "            showlegend = False\n",
    "        ))\n",
    "\n",
    "# spk_1 data\n",
    "for i in range(len(students_x_data)):\n",
    "# use only the first instance to create a legend, or there will be a legend entry for every speaking instance\n",
    "    if i == 0:\n",
    "        traces.append(go.Scatter(\n",
    "            x = students_x_data[i],\n",
    "            y = [2/3,2/3],\n",
    "            mode = 'lines + markers',\n",
    "            line = dict(color='rgb(229, 83, 0)'),\n",
    "            marker = dict(color='rgb(229, 83, 0)'),\n",
    "            name='Students'\n",
    "        ))\n",
    "# hide the legend for the rest of the speaking instances so that there is only one legend entry for each speaker,\n",
    "# rather than each speaking instance\n",
    "    else:\n",
    "        traces.append(go.Scatter(\n",
    "            x = students_x_data[i],\n",
    "            y = [2/3,2/3],\n",
    "            mode = 'lines + markers',\n",
    "            line = dict(color = 'rgb(229, 83, 0)'),\n",
    "            marker = dict(color = 'rgb(229, 83, 0)'),\n",
    "            name = 'Students',\n",
    "            showlegend = False\n",
    "        ))\n",
    "\n",
    "# pause data\n",
    "for i in range(len(pauses_x_data)):\n",
    "# use only the first pause to create a legend, or there will be a legend entry for every pause\n",
    "    if i == 0:\n",
    "        traces.append(go.Scatter(\n",
    "            x = pauses_x_data[i],\n",
    "            y = [0.5,0.5],\n",
    "            mode = 'lines + markers',\n",
    "            line = dict(color='rgb(282, 0, 0)'),\n",
    "            marker = dict(color='rgb(282, 0, 0)', symbol = 'triangle-down'),\n",
    "            name='pause',\n",
    "        ))\n",
    "# hide the legend for the rest of the pauses so that there is only one legend entry for all pauses,\n",
    "# rather than each pause\n",
    "    else:\n",
    "        traces.append(go.Scatter(\n",
    "            x = pauses_x_data[i],\n",
    "            y = [0.5,0.5],\n",
    "            mode = 'lines + markers',\n",
    "            line = dict(color = 'rgb(282, 0, 0)'),\n",
    "            marker = dict(color = 'rgb(282, 0, 0)', symbol = 'triangle-down'),\n",
    "            name = 'pause',\n",
    "            showlegend = False\n",
    "        ))    \n",
    "        \n",
    "data = traces\n",
    "layout = go.Layout(\n",
    "    title = 'Teacher vs. Student',\n",
    "    xaxis = dict(\n",
    "        zeroline = True,\n",
    "        showline = True,\n",
    "        title = 'Time (minutes)'\n",
    "        ),\n",
    "    yaxis = dict(\n",
    "        range = [0,1],\n",
    "        showgrid = False,\n",
    "        zeroline = False,\n",
    "        showline = False,\n",
    "        ticks = '',\n",
    "        showticklabels = False\n",
    "        ),\n",
    ")\n",
    "\n",
    "fig = go.Figure(data = data, layout = layout)\n",
    "offline.init_notebook_mode(connected=True)\n",
    "offline.iplot(fig)"
   ]
  },
  {
   "cell_type": "markdown",
   "metadata": {},
   "source": [
    "# Number of Questions"
   ]
  },
  {
   "cell_type": "code",
   "execution_count": 39,
   "metadata": {
    "collapsed": false
   },
   "outputs": [],
   "source": [
    "num_q = pd.merge(dialogue, sentence, on = 'Unnamed: 0', how = 'outer', suffixes = ('_dialogue', '_sentence'))"
   ]
  },
  {
   "cell_type": "code",
   "execution_count": 40,
   "metadata": {
    "collapsed": false
   },
   "outputs": [],
   "source": [
    "num_q = num_q[['sentence_type','start_time','end_time']]"
   ]
  },
  {
   "cell_type": "code",
   "execution_count": 41,
   "metadata": {
    "collapsed": false
   },
   "outputs": [],
   "source": [
    "whQuestion = num_q[num_q.sentence_type == 'whQuestion']\n",
    "ynQuestion = num_q[num_q.sentence_type == 'ynQuestion']\n",
    "num_q_only_qs = whQuestion.append(ynQuestion)"
   ]
  },
  {
   "cell_type": "code",
   "execution_count": 42,
   "metadata": {
    "collapsed": false
   },
   "outputs": [],
   "source": [
    "num_q_pt = pd.pivot_table(num_q, index = 'sentence_type', values='start_time', aggfunc='count')"
   ]
  },
  {
   "cell_type": "code",
   "execution_count": 43,
   "metadata": {
    "collapsed": false
   },
   "outputs": [],
   "source": [
    "total_qs = num_q_pt['whQuestion'] + num_q_pt['ynQuestion']"
   ]
  },
  {
   "cell_type": "code",
   "execution_count": 44,
   "metadata": {
    "collapsed": false
   },
   "outputs": [
    {
     "data": {
      "text/html": [
       "<script>requirejs.config({paths: { 'plotly': ['https://cdn.plot.ly/plotly-latest.min']},});if(!window.Plotly) {{require(['plotly'],function(plotly) {window.Plotly=plotly;});}}</script>"
      ]
     },
     "metadata": {},
     "output_type": "execute_result"
    },
    {
     "data": {
      "text/html": [
       "<div id=\"cef83a8d-8db1-4df1-b2c6-7a7ca46cd155\" style=\"height: 525px; width: 100%;\" class=\"plotly-graph-div\"></div><script type=\"text/javascript\">require([\"plotly\"], function(Plotly) { window.PLOTLYENV=window.PLOTLYENV || {};window.PLOTLYENV.BASE_URL=\"https://plot.ly\";Plotly.newPlot(\"cef83a8d-8db1-4df1-b2c6-7a7ca46cd155\", [{\"y\": [0.5, 0.5, 0.5, 0.5, 0.5, 0.5, 0.5, 0.5, 0.5, 0.5, 0.5, 0.5, 0.5, 0.5, 0.5, 0.5, 0.5, 0.5, 0.5, 0.5, 0.5, 0.5, 0.5, 0.5, 0.5, 0.5, 0.5, 0.5, 0.5, 0.5, 0.5, 0.5, 0.5, 0.5, 0.5, 0.5, 0.5, 0.5, 0.5, 0.5, 0.5, 0.5, 0.5, 0.5, 0.5, 0.5, 0.5, 0.5, 0.5, 0.5, 0.5, 0.5, 0.5, 0.5, 0.5, 0.5, 0.5, 0.5, 0.5, 0.5, 0.5, 0.5, 0.5, 0.5, 0.5, 0.5, 0.5, 0.5, 0.5, 0.5, 0.5, 0.5, 0.5, 0.5, 0.5, 0.5, 0.5, 0.5, 0.5, 0.5, 0.5, 0.5, 0.5, 0.5, 0.5, 0.5, 0.5, 0.5, 0.5, 0.5, 0.5, 0.5, 0.5, 0.5, 0.5, 0.5, 0.5, 0.5, 0.5, 0.5, 0.5, 0.5, 0.5, 0.5, 0.5, 0.5, 0.5, 0.5, 0.5, 0.5, 0.5, 0.5, 0.5, 0.5, 0.5, 0.5, 0.5, 0.5, 0.5, 0.5, 0.5, 0.5, 0.5, 0.5, 0.5], \"x\": [0.5438500000000001, 0.5956833333333333, 0.7950166666666667, 1.12035, 7.44095, 7.481116666666666, 7.541616666666666, 7.561616666666666, 7.62545, 7.7014499999999995, 8.405199999999999, 8.787366666666665, 8.8862, 8.992199999999999, 9.516533333333333, 11.124583333333334, 11.80425, 11.93175, 12.528866666666666, 12.6577, 7.490616666666666, 8.2682, 12.438533333333334, 12.698866666666667], \"type\": \"scatter\", \"name\": \"Questions\", \"mode\": \"markers\"}], {\"title\": \"Questions\", \"annotations\": [{\"xref\": \"x\", \"yref\": \"y\", \"text\": \"There were 24 questions asked during the lesson.\", \"y\": 0.75, \"x\": 6.462016666666667, \"showarrow\": false}], \"xaxis\": {\"zeroline\": true, \"showline\": true, \"title\": \"Time (minutes)\"}, \"yaxis\": {\"showticklabels\": false, \"ticks\": \"\", \"showgrid\": false, \"range\": [0, 1], \"zeroline\": false, \"showline\": false}}, {\"linkText\": \"Export to plot.ly\", \"showLink\": true})});</script>"
      ]
     },
     "metadata": {},
     "output_type": "execute_result"
    }
   ],
   "source": [
    "# questions data\n",
    "trace_questions = go.Scatter(\n",
    "    x = list(num_q_only_qs['start_time']/60),\n",
    "    y = [0.5 for i in list(num_q['start_time'])],\n",
    "    mode = 'markers',\n",
    "    name = 'Questions'\n",
    ")\n",
    "\n",
    "data = [trace_questions]\n",
    "layout=go.Layout(\n",
    "    title = 'Questions',\n",
    "    xaxis = dict(\n",
    "        zeroline = True,\n",
    "        showline = True,\n",
    "        title = 'Time (minutes)'\n",
    "        ),\n",
    "    yaxis = dict(\n",
    "        range = [0,1],\n",
    "        showgrid = False,\n",
    "        zeroline = False,\n",
    "        showline = False,\n",
    "        ticks = '',\n",
    "        showticklabels = False\n",
    "        ),\n",
    "    annotations = [\n",
    "        dict(\n",
    "            x = float(list(num_q['start_time']/60)[-1])/2,\n",
    "            y = 0.75,\n",
    "            xref = 'x',\n",
    "            yref = 'y',\n",
    "            text = \"There were {} questions asked during the lesson.\".format(total_qs),\n",
    "            showarrow = False\n",
    "        ),\n",
    "    ]\n",
    ")\n",
    "\n",
    "fig = go.Figure(data = data, layout = layout)\n",
    "offline.init_notebook_mode(connected = True)\n",
    "offline.iplot(fig)"
   ]
  },
  {
   "cell_type": "markdown",
   "metadata": {},
   "source": [
    "# Number of Occurrences"
   ]
  },
  {
   "cell_type": "code",
   "execution_count": 45,
   "metadata": {
    "collapsed": false
   },
   "outputs": [],
   "source": [
    "# insulting language above 0.5\n",
    "\n",
    "insult_lang_df = pd.merge(insults, sentence, how = 'outer', on = 'Unnamed: 0', suffixes = ('_insults','_sentence'))\n",
    "insult_lang_df = insult_lang_df[insult_lang_df.insult_rating > 0.5]\n",
    "insult_lang_df = insult_lang_df[['insult_rating','start_time','end_time']]"
   ]
  },
  {
   "cell_type": "code",
   "execution_count": 46,
   "metadata": {
    "collapsed": false
   },
   "outputs": [],
   "source": [
    "laugh_df = laughter[['start_time']]"
   ]
  },
  {
   "cell_type": "code",
   "execution_count": 47,
   "metadata": {
    "collapsed": false
   },
   "outputs": [],
   "source": [
    "yell_df = yelling[['start_time','yelling']]\n",
    "yell_df = yell_df[yell_df.yelling == True]"
   ]
  },
  {
   "cell_type": "code",
   "execution_count": 48,
   "metadata": {
    "collapsed": false
   },
   "outputs": [
    {
     "data": {
      "text/html": [
       "<script>requirejs.config({paths: { 'plotly': ['https://cdn.plot.ly/plotly-latest.min']},});if(!window.Plotly) {{require(['plotly'],function(plotly) {window.Plotly=plotly;});}}</script>"
      ]
     },
     "metadata": {},
     "output_type": "execute_result"
    },
    {
     "data": {
      "text/html": [
       "<div id=\"0c89e1d8-a702-4fd4-a83a-be0d758513ee\" style=\"height: 525px; width: 100%;\" class=\"plotly-graph-div\"></div><script type=\"text/javascript\">require([\"plotly\"], function(Plotly) { window.PLOTLYENV=window.PLOTLYENV || {};window.PLOTLYENV.BASE_URL=\"https://plot.ly\";Plotly.newPlot(\"0c89e1d8-a702-4fd4-a83a-be0d758513ee\", [{\"y\": [0.25], \"x\": [8.472533333333333], \"type\": \"scatter\", \"name\": \"Insulting Language\", \"mode\": \"markers\"}, {\"y\": [0.5, 0.5, 0.5, 0.5, 0.5, 0.5, 0.5, 0.5, 0.5, 0.5, 0.5, 0.5, 0.5, 0.5, 0.5, 0.5, 0.5, 0.5, 0.5, 0.5, 0.5, 0.5, 0.5, 0.5, 0.5, 0.5, 0.5, 0.5, 0.5, 0.5, 0.5, 0.5, 0.5, 0.5, 0.5, 0.5, 0.5, 0.5, 0.5, 0.5, 0.5, 0.5, 0.5, 0.5, 0.5, 0.5, 0.5, 0.5, 0.5, 0.5, 0.5, 0.5, 0.5, 0.5, 0.5, 0.5, 0.5, 0.5, 0.5, 0.5, 0.5, 0.5, 0.5, 0.5, 0.5, 0.5, 0.5, 0.5, 0.5, 0.5, 0.5, 0.5, 0.5, 0.5, 0.5, 0.5, 0.5, 0.5, 0.5, 0.5, 0.5, 0.5, 0.5, 0.5, 0.5, 0.5, 0.5, 0.5, 0.5, 0.5, 0.5, 0.5, 0.5, 0.5, 0.5, 0.5, 0.5, 0.5, 0.5], \"x\": [0.016166666666666666, 0.10733333333333334, 0.16516666666666666, 0.22949999999999998, 1.0425, 1.1011666666666666, 1.1566666666666667, 1.3086666666666666, 1.5731666666666666, 2.1383333333333336, 2.3568333333333333, 2.4743333333333335, 2.522666666666667, 3.007166666666667, 3.0986666666666665, 3.180833333333333, 3.3263333333333334, 3.4213333333333336, 3.4741666666666666, 3.7423333333333333, 4.065666666666667, 4.439333333333334, 4.783166666666667, 4.931333333333333, 5.1, 5.137333333333333, 5.193833333333333, 5.4446666666666665, 5.553333333333333, 6.058166666666667, 6.1055, 7.972833333333333, 8.208333333333334, 9.735833333333334, 10.222666666666667, 10.539, 10.851333333333335, 10.951333333333334, 11.3505, 12.799333333333333, 12.99, 13.020666666666667, 13.056166666666666, 13.409333333333333, 13.533999999999999, 13.564333333333334, 14.259666666666668, 16.317833333333333, 16.922833333333333, 17.707333333333334, 21.7315, 22.300666666666665, 23.129833333333334, 23.567166666666665, 23.736333333333334, 23.885833333333334, 24.590333333333334, 27.474333333333334, 27.639166666666664, 27.75, 27.793666666666663, 28.034166666666668, 28.355833333333333, 28.409166666666668, 29.450833333333332, 29.602833333333333, 29.964833333333335, 30.092666666666666, 30.639333333333333, 31.023833333333336, 32.34066666666667, 32.454, 33.27616666666667, 33.8415, 34.343333333333334, 35.12733333333333, 35.162666666666674, 35.5485, 37.02966666666667, 37.100500000000004, 37.397000000000006, 38.323166666666665, 39.00533333333333, 39.094, 39.401833333333336, 39.549499999999995, 41.03216666666666, 41.12466666666667, 41.67100000000001, 42.07983333333333, 42.44766666666667, 42.796166666666664, 42.995, 43.097166666666666, 43.29600000000001, 43.43866666666667, 43.617, 43.964666666666666, 45.236666666666665], \"type\": \"scatter\", \"name\": \"Laughing\", \"mode\": \"markers\"}, {\"y\": [0.75, 0.75, 0.75, 0.75, 0.75, 0.75, 0.75, 0.75, 0.75, 0.75, 0.75, 0.75, 0.75, 0.75, 0.75, 0.75, 0.75, 0.75, 0.75, 0.75, 0.75, 0.75, 0.75, 0.75, 0.75, 0.75, 0.75, 0.75, 0.75, 0.75, 0.75, 0.75, 0.75, 0.75, 0.75, 0.75, 0.75, 0.75, 0.75, 0.75, 0.75, 0.75, 0.75, 0.75, 0.75, 0.75, 0.75, 0.75, 0.75, 0.75, 0.75, 0.75, 0.75, 0.75, 0.75, 0.75, 0.75, 0.75, 0.75, 0.75, 0.75, 0.75, 0.75, 0.75, 0.75, 0.75, 0.75, 0.75, 0.75, 0.75, 0.75, 0.75, 0.75, 0.75, 0.75, 0.75, 0.75, 0.75, 0.75, 0.75, 0.75, 0.75, 0.75, 0.75, 0.75, 0.75, 0.75], \"x\": [0.016766666666666666, 0.3602666666666667, 0.48976666666666663, 1.5594333333333334, 2.3453333333333335, 2.7176666666666667, 3.5771666666666664, 5.415666666666667, 5.5925, 5.986666666666666, 6.402666666666667, 6.749666666666667, 7.199333333333333, 7.5975, 8.023, 8.568000000000001, 10.5375, 11.331333333333333, 11.798333333333334, 12.099833333333333, 12.310333333333334, 12.358166666666667, 12.554, 14.364, 14.571833333333332, 14.747333333333334, 14.878333333333334, 15.439666666666666, 15.823666666666666, 16.131, 16.271666666666665, 16.377333333333333, 16.6205, 16.698, 17.071666666666665, 18.906166666666664, 19.632333333333335, 20.553, 21.545, 22.28483333333333, 22.583833333333335, 23.020166666666668, 23.430999999999997, 23.897, 24.734416666666668, 25.35225, 26.167616666666667, 26.729116666666666, 27.38511666666667, 28.00945, 28.151166666666665, 28.41166666666667, 29.691333333333333, 30.42, 31.373333333333335, 31.690833333333334, 31.990000000000002, 32.06616666666667, 32.680166666666665, 33.61033333333333, 33.763666666666666, 34.04366666666667, 34.580666666666666, 34.81066666666666, 34.95483333333333, 35.348166666666664, 36.36716666666667, 36.6455, 37.001, 38.022666666666666, 38.318916666666674, 38.662416666666665, 38.82008333333333, 41.01903333333334, 41.3992, 41.5407, 42.086866666666666, 42.388983333333336, 42.633649999999996, 43.08365, 43.31698333333333, 43.957816666666666, 44.246900000000004, 44.6439, 44.967066666666675, 45.2394, 45.52290000000001], \"type\": \"scatter\", \"name\": \"Yelling\", \"mode\": \"markers\"}], {\"title\": \"Timeline Of Occurrences\", \"xaxis\": {\"zeroline\": true, \"showline\": true, \"title\": \"Time (minutes)\"}, \"yaxis\": {\"showticklabels\": false, \"ticks\": \"\", \"showgrid\": false, \"range\": [0, 1], \"zeroline\": false, \"showline\": false}}, {\"linkText\": \"Export to plot.ly\", \"showLink\": true})});</script>"
      ]
     },
     "metadata": {},
     "output_type": "execute_result"
    }
   ],
   "source": [
    "# respectful Language Data\n",
    "trace_insult_lang = go.Scatter(\n",
    "    x = list(insult_lang_df['start_time']/60),\n",
    "    y = [0.25 for i in list(insult_lang_df['start_time'])],\n",
    "    mode = 'markers',\n",
    "#     marker = dict(color='rgb(0, 59, 174)'\n",
    "#     ),\n",
    "    name='Insulting Language'\n",
    ")\n",
    "\n",
    "# laughing Data\n",
    "trace_laugh = go.Scatter(\n",
    "    x = list(laugh_df['start_time']/60),\n",
    "    y = [0.5 for i in list(laugh_df['start_time'])],\n",
    "    mode = 'markers',\n",
    "#     marker = dict(color='rgb(0, 59, 174)'\n",
    "#     ),\n",
    "    name='Laughing'\n",
    ")\n",
    "\n",
    "# yelling Data\n",
    "trace_yell = go.Scatter(\n",
    "    x = list(yell_df['start_time']/60),\n",
    "    y = [0.75 for i in list(yell_df['start_time'])],\n",
    "    mode = 'markers',\n",
    "#     marker = dict(color='rgb(0, 59, 174)'\n",
    "#     ),\n",
    "    name='Yelling'\n",
    ")\n",
    "\n",
    "data = [trace_insult_lang, trace_laugh, trace_yell]\n",
    "layout=go.Layout(\n",
    "    title = 'Timeline Of Occurrences',\n",
    "    xaxis = dict(\n",
    "        zeroline = True,\n",
    "        showline = True,\n",
    "        title = 'Time (minutes)'\n",
    "        ),\n",
    "    yaxis = dict(\n",
    "        range=[0,1],\n",
    "        showgrid=False,\n",
    "        zeroline=False,\n",
    "        showline=False,\n",
    "        ticks='',\n",
    "        showticklabels=False\n",
    "        ),\n",
    ")\n",
    "\n",
    "fig = go.Figure(data=data, layout=layout)\n",
    "offline.init_notebook_mode(connected=True)\n",
    "offline.iplot(fig)"
   ]
  },
  {
   "cell_type": "code",
   "execution_count": null,
   "metadata": {
    "collapsed": true
   },
   "outputs": [],
   "source": []
  }
 ],
 "metadata": {
  "kernelspec": {
   "display_name": "Python 2",
   "language": "python",
   "name": "python2"
  },
  "language_info": {
   "codemirror_mode": {
    "name": "ipython",
    "version": 2
   },
   "file_extension": ".py",
   "mimetype": "text/x-python",
   "name": "python",
   "nbconvert_exporter": "python",
   "pygments_lexer": "ipython2",
   "version": "2.7.13"
  }
 },
 "nbformat": 4,
 "nbformat_minor": 1
}
