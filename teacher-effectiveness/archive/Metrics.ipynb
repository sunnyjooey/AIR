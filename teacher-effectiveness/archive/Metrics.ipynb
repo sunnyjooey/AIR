{
 "cells": [
  {
   "cell_type": "code",
   "execution_count": 1,
   "metadata": {},
   "outputs": [
    {
     "name": "stderr",
     "output_type": "stream",
     "text": [
      "/anaconda3/lib/python3.6/importlib/_bootstrap.py:219: RuntimeWarning: numpy.dtype size changed, may indicate binary incompatibility. Expected 96, got 88\n",
      "  return f(*args, **kwds)\n",
      "/anaconda3/lib/python3.6/importlib/_bootstrap.py:219: RuntimeWarning: numpy.dtype size changed, may indicate binary incompatibility. Expected 96, got 88\n",
      "  return f(*args, **kwds)\n",
      "/anaconda3/lib/python3.6/importlib/_bootstrap.py:219: RuntimeWarning:\n",
      "\n",
      "numpy.dtype size changed, may indicate binary incompatibility. Expected 96, got 88\n",
      "\n",
      "/anaconda3/lib/python3.6/importlib/_bootstrap.py:219: RuntimeWarning:\n",
      "\n",
      "numpy.dtype size changed, may indicate binary incompatibility. Expected 96, got 88\n",
      "\n"
     ]
    }
   ],
   "source": [
    "#import libraries\n",
    "import pandas as pd\n",
    "import numpy as np\n",
    "import csv\n",
    "import re\n",
    "from nltk import word_tokenize\n",
    "from collections import Counter\n",
    "from nltk.corpus import stopwords"
   ]
  },
  {
   "cell_type": "code",
   "execution_count": 2,
   "metadata": {},
   "outputs": [],
   "source": [
    "from nltk.corpus import stopwords\n",
    "from nltk.tokenize import word_tokenize\n",
    " \n",
    "example_sent = \"This is a sample sentence, showing off the stop words filtration.\"\n",
    " \n",
    "stop_words = set(stopwords.words('english'))\n",
    " \n",
    "word_tokens = word_tokenize(example_sent)\n",
    " \n",
    "filtered_sentence = [w for w in word_tokens if not w in stop_words]\n",
    " \n",
    "filtered_sentence = []\n",
    " \n",
    "for w in word_tokens:\n",
    "    if w not in stop_words:\n",
    "        filtered_sentence.append(w)\n",
    " \n",
    "print(word_tokens)\n",
    "print(filtered_sentence)"
   ]
  },
  {
   "cell_type": "code",
   "execution_count": 3,
   "metadata": {},
   "outputs": [],
   "source": [
    "# transcript = []\n",
    "# with open('transcript example.txt', 'rb') as f:\n",
    "#     reader = csv.reader(f, delimiter='\\t')\n",
    "#     for row in reader:\n",
    "#         transcript.append(str(row))"
   ]
  },
  {
   "cell_type": "code",
   "execution_count": 4,
   "metadata": {},
   "outputs": [
    {
     "name": "stdout",
     "output_type": "stream",
     "text": [
      "\n",
      " teacher : Shall I compare thee to a summer's day? Thou art more lovely and more temperate Rough winds do  hake the darling buds of May, And summer's lease hath all too short a date; Sometime too hot the eye of heaven shines, And often is his gold complexion dimm'd; And every fair from fair sometime declines, By chance or nature's changing course untrimm'd But thy eternal summer shall not fade, Nor lose possession of that fair thou ow'st; Nor shall death brag thou wander'st in his shade, When in eternal lines to time thou grow'st So long as men can breathe or eyes can see, So long lives this, and this gives life to thee.\n",
      "\n",
      " teacher tokenize : ['Shall', 'I', 'compare', 'thee', 'to', 'a', 'summer', \"'s\", 'day', '?', 'Thou', 'art', 'more', 'lovely', 'and', 'more', 'temperate', 'Rough', 'winds', 'do', 'hake', 'the', 'darling', 'buds', 'of', 'May', ',', 'And', 'summer', \"'s\", 'lease', 'hath', 'all', 'too', 'short', 'a', 'date', ';', 'Sometime', 'too', 'hot', 'the', 'eye', 'of', 'heaven', 'shines', ',', 'And', 'often', 'is', 'his', 'gold', 'complexion', 'dimm', \"'d\", ';', 'And', 'every', 'fair', 'from', 'fair', 'sometime', 'declines', ',', 'By', 'chance', 'or', 'nature', \"'s\", 'changing', 'course', 'untrimm', \"'d\", 'But', 'thy', 'eternal', 'summer', 'shall', 'not', 'fade', ',', 'Nor', 'lose', 'possession', 'of', 'that', 'fair', 'thou', \"ow'st\", ';', 'Nor', 'shall', 'death', 'brag', 'thou', \"wander'st\", 'in', 'his', 'shade', ',', 'When', 'in', 'eternal', 'lines', 'to', 'time', 'thou', \"grow'st\", 'So', 'long', 'as', 'men', 'can', 'breathe', 'or', 'eyes', 'can', 'see', ',', 'So', 'long', 'lives', 'this', ',', 'and', 'this', 'gives', 'life', 'to', 'thee', '.']\n",
      "\n",
      "Regex : Shall I compare thee to a summers day Thou art more lovely and more temperate Rough winds do  hake the darling buds of May And summers lease hath all too short a date Sometime too hot the eye of heaven shines And often is his gold complexion dimmd And every fair from fair sometime declines By chance or natures changing course untrimmd But thy eternal summer shall not fade Nor lose possession of that fair thou owst Nor shall death brag thou wanderst in his shade When in eternal lines to time thou growst So long as men can breathe or eyes can see So long lives this and this gives life to thee\n"
     ]
    }
   ],
   "source": [
    "teacher = \"Shall I compare thee to a summer's day? Thou art more lovely and more temperate Rough winds do  hake the darling buds of May, And summer's lease hath all too short a date; Sometime too hot the eye of heaven shines, And often is his gold complexion dimm'd; And every fair from fair sometime declines, By chance or nature's changing course untrimm'd But thy eternal summer shall not fade, Nor lose possession of that fair thou ow'st; Nor shall death brag thou wander'st in his shade, When in eternal lines to time thou grow'st So long as men can breathe or eyes can see, So long lives this, and this gives life to thee.\"\n",
    "student = \"Everyone was busy, so I went to the movie alone. The stranger officiates the meal. She works two jobs to make ends meet; at least, that was her reason for not having time to join us. She always speaks to him in a loud voice. This is a Japanese doll. She wrote him a long letter, but he didn't read it. Don't step on the broken glass. He told us a very exciting adventure story. My Mum tries to be cool by saying that she likes all the same things that I do. Where do random thoughts come from?\"\n",
    "print(\"\\n teacher :\", teacher)\n",
    "teacher_tokenize = word_tokenize(teacher)\n",
    "print(\"\\n teacher tokenize :\", teacher_tokenize)\n",
    "teacher = re.sub(r'[^\\w\\s]','',teacher)\n",
    "student = re.sub(r'[^\\w\\s]','',student)\n",
    "print(\"\\nRegex :\", teacher)"
   ]
  },
  {
   "cell_type": "code",
   "execution_count": 5,
   "metadata": {},
   "outputs": [
    {
     "name": "stdout",
     "output_type": "stream",
     "text": [
      "['Shall', 'I', 'compare', 'thee', 'to', 'a', 'summers', 'day', 'Thou', 'art', 'more', 'lovely', 'and', 'more', 'temperate', 'Rough', 'winds', 'do', 'hake', 'the', 'darling', 'buds', 'of', 'May', 'And', 'summers', 'lease', 'hath', 'all', 'too', 'short', 'a', 'date', 'Sometime', 'too', 'hot', 'the', 'eye', 'of', 'heaven', 'shines', 'And', 'often', 'is', 'his', 'gold', 'complexion', 'dimmd', 'And', 'every', 'fair', 'from', 'fair', 'sometime', 'declines', 'By', 'chance', 'or', 'natures', 'changing', 'course', 'untrimmd', 'But', 'thy', 'eternal', 'summer', 'shall', 'not', 'fade', 'Nor', 'lose', 'possession', 'of', 'that', 'fair', 'thou', 'owst', 'Nor', 'shall', 'death', 'brag', 'thou', 'wanderst', 'in', 'his', 'shade', 'When', 'in', 'eternal', 'lines', 'to', 'time', 'thou', 'growst', 'So', 'long', 'as', 'men', 'can', 'breathe', 'or', 'eyes', 'can', 'see', 'So', 'long', 'lives', 'this', 'and', 'this', 'gives', 'life', 'to', 'thee']\n"
     ]
    },
    {
     "data": {
      "text/plain": [
       "list"
      ]
     },
     "execution_count": 5,
     "metadata": {},
     "output_type": "execute_result"
    }
   ],
   "source": [
    "teacher_tokenize = word_tokenize(teacher)\n",
    "print(teacher_tokenize)\n",
    "type(teacher_tokenize)"
   ]
  },
  {
   "cell_type": "code",
   "execution_count": 6,
   "metadata": {},
   "outputs": [
    {
     "name": "stdout",
     "output_type": "stream",
     "text": [
      "Counter({'to': 3, 'of': 3, 'And': 3, 'fair': 3, 'thou': 3, 'thee': 2, 'a': 2, 'summers': 2, 'more': 2, 'and': 2, 'the': 2, 'too': 2, 'his': 2, 'or': 2, 'eternal': 2, 'shall': 2, 'Nor': 2, 'in': 2, 'So': 2, 'long': 2, 'can': 2, 'this': 2, 'Shall': 1, 'I': 1, 'compare': 1, 'day': 1, 'Thou': 1, 'art': 1, 'lovely': 1, 'temperate': 1, 'Rough': 1, 'winds': 1, 'do': 1, 'hake': 1, 'darling': 1, 'buds': 1, 'May': 1, 'lease': 1, 'hath': 1, 'all': 1, 'short': 1, 'date': 1, 'Sometime': 1, 'hot': 1, 'eye': 1, 'heaven': 1, 'shines': 1, 'often': 1, 'is': 1, 'gold': 1, 'complexion': 1, 'dimmd': 1, 'every': 1, 'from': 1, 'sometime': 1, 'declines': 1, 'By': 1, 'chance': 1, 'natures': 1, 'changing': 1, 'course': 1, 'untrimmd': 1, 'But': 1, 'thy': 1, 'summer': 1, 'not': 1, 'fade': 1, 'lose': 1, 'possession': 1, 'that': 1, 'owst': 1, 'death': 1, 'brag': 1, 'wanderst': 1, 'shade': 1, 'When': 1, 'lines': 1, 'time': 1, 'growst': 1, 'as': 1, 'men': 1, 'breathe': 1, 'eyes': 1, 'see': 1, 'lives': 1, 'gives': 1, 'life': 1})\n"
     ]
    },
    {
     "data": {
      "text/plain": [
       "{'thee': 2,\n",
       " 'to': 3,\n",
       " 'a': 2,\n",
       " 'summers': 2,\n",
       " 'more': 2,\n",
       " 'and': 2,\n",
       " 'the': 2,\n",
       " 'of': 3,\n",
       " 'And': 3,\n",
       " 'too': 2,\n",
       " 'his': 2,\n",
       " 'fair': 3,\n",
       " 'or': 2,\n",
       " 'eternal': 2,\n",
       " 'shall': 2,\n",
       " 'Nor': 2,\n",
       " 'thou': 3,\n",
       " 'in': 2,\n",
       " 'So': 2,\n",
       " 'long': 2,\n",
       " 'can': 2,\n",
       " 'this': 2}"
      ]
     },
     "execution_count": 6,
     "metadata": {},
     "output_type": "execute_result"
    }
   ],
   "source": [
    "counts = Counter(teacher_tokenize)\n",
    "#print(counts)\n",
    "dict((word, freq) for word, freq in counts.items() if freq >= threshold)"
   ]
  },
  {
   "cell_type": "code",
   "execution_count": null,
   "metadata": {},
   "outputs": [],
   "source": []
  },
  {
   "cell_type": "code",
   "execution_count": null,
   "metadata": {},
   "outputs": [],
   "source": []
  },
  {
   "cell_type": "code",
   "execution_count": null,
   "metadata": {},
   "outputs": [],
   "source": []
  },
  {
   "cell_type": "code",
   "execution_count": null,
   "metadata": {},
   "outputs": [],
   "source": []
  },
  {
   "cell_type": "code",
   "execution_count": null,
   "metadata": {},
   "outputs": [],
   "source": []
  },
  {
   "cell_type": "code",
   "execution_count": null,
   "metadata": {},
   "outputs": [],
   "source": []
  },
  {
   "cell_type": "code",
   "execution_count": 7,
   "metadata": {},
   "outputs": [
    {
     "name": "stdout",
     "output_type": "stream",
     "text": [
      "['And', 'But', 'By', 'I', 'May', 'Nor', 'Rough', 'Shall', 'So', 'Sometime', 'Thou', 'When', 'a', 'all', 'and', 'art', 'as', 'brag', 'breathe', 'buds', 'can', 'chance', 'changing', 'compare', 'complexion', 'course', 'darling', 'date', 'day', 'death', 'declines', 'dimmd', 'do', 'eternal', 'every', 'eye', 'eyes', 'fade', 'fair', 'from', 'gives', 'gold', 'growst', 'hake', 'hath', 'heaven', 'his', 'hot', 'in', 'is', 'lease', 'life', 'lines', 'lives', 'long', 'lose', 'lovely', 'men', 'more', 'natures', 'not', 'of', 'often', 'or', 'owst', 'possession', 'see', 'shade', 'shall', 'shines', 'short', 'sometime', 'summer', 'summers', 'temperate', 'that', 'the', 'thee', 'this', 'thou', 'thy', 'time', 'to', 'too', 'untrimmd', 'wanderst', 'winds']\n"
     ]
    }
   ],
   "source": [
    "teacher_unique_words = list(np.unique(teacher_tokenize))\n",
    "print(teacher_unique_words)"
   ]
  }
 ],
 "metadata": {
  "kernelspec": {
   "display_name": "Python 3",
   "language": "python",
   "name": "python3"
  },
  "language_info": {
   "codemirror_mode": {
    "name": "ipython",
    "version": 3
   },
   "file_extension": ".py",
   "mimetype": "text/x-python",
   "name": "python",
   "nbconvert_exporter": "python",
   "pygments_lexer": "ipython3",
   "version": "3.6.6"
  }
 },
 "nbformat": 4,
 "nbformat_minor": 2
}
