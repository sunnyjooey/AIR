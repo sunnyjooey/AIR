{
 "cells": [
  {
   "cell_type": "code",
   "execution_count": 1,
   "id": "b2e6581b",
   "metadata": {},
   "outputs": [],
   "source": [
    "import pandas as pd\n",
    "import time\n",
    "import boto3"
   ]
  },
  {
   "cell_type": "code",
   "execution_count": 2,
   "id": "95d6f2ff",
   "metadata": {},
   "outputs": [],
   "source": [
    "# 'rootkey.csv' is the file you've downloaded from AWS\n",
    "with open('rootkey.csv', 'r') as f:\n",
    "    content = f.readlines()\n",
    "\n",
    "keys = {}\n",
    "for line in content:\n",
    "    pair = line.strip().split('=')\n",
    "    keys.update({pair[0] : pair[1]})\n",
    "\n",
    "AWS_ACCESS_KEY_ID = keys['AWSAccessKeyId']\n",
    "AWS_SECRET_KEY = keys['AWSSecretKey']"
   ]
  },
  {
   "cell_type": "code",
   "execution_count": 6,
   "id": "2f1262aa",
   "metadata": {},
   "outputs": [],
   "source": [
    "def amazon_transcribe(filename):\n",
    "\n",
    "    transcribe = boto3.client('transcribe', \n",
    "                              region_name='us-east-2',\n",
    "                              aws_access_key_id=AWS_ACCESS_KEY_ID,\n",
    "                              aws_secret_access_key=AWS_SECRET_KEY)\n",
    "    \n",
    "    job_name = \"naep-job-{}\".format(filename)\n",
    "    job_uri = \"s3://naep-vocab/{}\".format(filename)\n",
    "    transcribe.start_transcription_job(\n",
    "        TranscriptionJobName=job_name,\n",
    "        Media={'MediaFileUri': job_uri},\n",
    "        MediaFormat='wav',\n",
    "        LanguageCode='en-US',\n",
    "        #OutputBucketName='string',\n",
    "        Settings={\n",
    "            'VocabularyName': 'naep-cust-voc'\n",
    "        }\n",
    "    )\n",
    "\n",
    "    while True:\n",
    "        result = transcribe.get_transcription_job(TranscriptionJobName=job_name)\n",
    "        if result['TranscriptionJob']['TranscriptionJobStatus'] in ['COMPLETED', 'FAILED']:\n",
    "            break\n",
    "        time.sleep(15)\n",
    "    if result['TranscriptionJob']['TranscriptionJobStatus'] == \"COMPLETED\":\n",
    "        data = pd.read_json(result['TranscriptionJob']['Transcript']['TranscriptFileUri'])\n",
    "    return data['results'][1][0]['transcript']"
   ]
  },
  {
   "cell_type": "code",
   "execution_count": 7,
   "id": "d5080f38",
   "metadata": {},
   "outputs": [],
   "source": [
    "ORIG_DIR = './audio/orig'\n",
    "import os"
   ]
  },
  {
   "cell_type": "code",
   "execution_count": 8,
   "id": "290c9748",
   "metadata": {},
   "outputs": [
    {
     "name": "stdout",
     "output_type": "stream",
     "text": [
      "Boo Score3_168692.wav\n"
     ]
    }
   ],
   "source": [
    "res = []\n",
    "for filename in os.listdir(ORIG_DIR):\n",
    "    try:\n",
    "        transcript = amazon_transcribe(filename)\n",
    "        res.append((filename, transcript))\n",
    "    except:\n",
    "        print('Boo', filename)"
   ]
  },
  {
   "cell_type": "code",
   "execution_count": 9,
   "id": "627fc096",
   "metadata": {},
   "outputs": [],
   "source": [
    "with open('./aws_results_vocab.txt', 'w') as f:\n",
    "    for pair in res:\n",
    "        f.write(pair[0])\n",
    "        f.write('\\n')\n",
    "        f.write(pair[1])\n",
    "        f.write('\\n\\n\\n')"
   ]
  },
  {
   "cell_type": "code",
   "execution_count": null,
   "id": "f4851506",
   "metadata": {},
   "outputs": [],
   "source": []
  },
  {
   "cell_type": "code",
   "execution_count": 25,
   "id": "4de30814",
   "metadata": {},
   "outputs": [],
   "source": []
  },
  {
   "cell_type": "code",
   "execution_count": null,
   "id": "ef632856",
   "metadata": {},
   "outputs": [],
   "source": []
  }
 ],
 "metadata": {
  "kernelspec": {
   "display_name": "Python 3 (ipykernel)",
   "language": "python",
   "name": "python3"
  },
  "language_info": {
   "codemirror_mode": {
    "name": "ipython",
    "version": 3
   },
   "file_extension": ".py",
   "mimetype": "text/x-python",
   "name": "python",
   "nbconvert_exporter": "python",
   "pygments_lexer": "ipython3",
   "version": "3.9.7"
  }
 },
 "nbformat": 4,
 "nbformat_minor": 5
}
