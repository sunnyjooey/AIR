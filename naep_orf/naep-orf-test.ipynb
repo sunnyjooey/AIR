{
 "cells": [
  {
   "cell_type": "code",
   "execution_count": 1,
   "id": "9191cc5d",
   "metadata": {},
   "outputs": [],
   "source": [
    "from google.cloud import speech\n",
    "import os\n",
    "\n",
    "# set service account credentials\n",
    "os.environ[\"GOOGLE_APPLICATION_CREDENTIALS\"]='naep-orf-4ea5eacc76b4.json'"
   ]
  },
  {
   "cell_type": "code",
   "execution_count": 2,
   "id": "1f579eb7",
   "metadata": {},
   "outputs": [],
   "source": [
    "from pydub import AudioSegment\n",
    "from pydub.utils import make_chunks\n",
    "import wave"
   ]
  },
  {
   "cell_type": "code",
   "execution_count": 3,
   "id": "ddd6bfe6",
   "metadata": {},
   "outputs": [],
   "source": [
    "ORIG_DIR = './audio/orig'\n",
    "CHUNK_DIR = './audio/chunks'"
   ]
  },
  {
   "cell_type": "code",
   "execution_count": 4,
   "id": "3736dd1c",
   "metadata": {},
   "outputs": [],
   "source": [
    "def frame_rate_channel(audio_file_name):\n",
    "    with wave.open(audio_file_name, \"rb\") as wave_file:\n",
    "        frame_rate = wave_file.getframerate()\n",
    "        channels = wave_file.getnchannels()\n",
    "    return frame_rate, channels"
   ]
  },
  {
   "cell_type": "code",
   "execution_count": 19,
   "id": "263a019d",
   "metadata": {},
   "outputs": [],
   "source": [
    "def create_chunks(filename):\n",
    "    myaudio = AudioSegment.from_file('{}/{}'.format(ORIG_DIR, filename), \"wav\") \n",
    "    chunk_length_ms = 30000 # pydub calculates in millisec\n",
    "    chunks = make_chunks(myaudio, chunk_length_ms) #Make chunks of one sec\n",
    "    pref = filename.split('/')[-1].split('.wav')[0]\n",
    "    chunk_lst = []\n",
    "    \n",
    "    #Export all of the individual chunks as wav files\n",
    "    for i, chunk in enumerate(chunks):\n",
    "        chunk_name = \"{}_chunk{}.wav\".format(pref, i)\n",
    "        chunk_lst.append(chunk_name)\n",
    "        print(\"exporting\", chunk_name)\n",
    "        chunk.export('{}/{}'.format(CHUNK_DIR, chunk_name), format=\"wav\")\n",
    "    return chunk_lst"
   ]
  },
  {
   "cell_type": "code",
   "execution_count": 20,
   "id": "8f538371",
   "metadata": {},
   "outputs": [],
   "source": [
    "def stereo_to_mono(audio_file_name):\n",
    "    audio_file_name = '{}/{}'.format(CHUNK_DIR, audio_file_name)\n",
    "    sound = AudioSegment.from_wav(audio_file_name)\n",
    "    sound = sound.set_channels(1)\n",
    "    sound.export(audio_file_name, format=\"wav\")"
   ]
  },
  {
   "cell_type": "code",
   "execution_count": 21,
   "id": "407bb59f",
   "metadata": {},
   "outputs": [],
   "source": [
    "def transcribe_file(filename):\n",
    "    \"\"\"Transcribe the given audio file asynchronously.\"\"\"\n",
    "    client = speech.SpeechClient()\n",
    "    chunk_lst = create_chunks(filename)\n",
    "\n",
    "    transcript = ''\n",
    "    transcript = []\n",
    "    for file in chunk_lst:\n",
    "        \n",
    "        frame_rate, channels = frame_rate_channel('{}/{}'.format(CHUNK_DIR, file))\n",
    "    \n",
    "        if channels > 1:\n",
    "            stereo_to_mono(file)\n",
    "        \n",
    "        with open('{}/{}'.format(CHUNK_DIR, file), \"rb\") as audio_file:\n",
    "            content = audio_file.read()\n",
    "\n",
    "        audio = speech.RecognitionAudio(content=content)\n",
    "\n",
    "        config = speech.RecognitionConfig(\n",
    "            encoding=speech.RecognitionConfig.AudioEncoding.ENCODING_UNSPECIFIED,\n",
    "            sample_rate_hertz=frame_rate,\n",
    "            language_code=\"en-US\",\n",
    "        )\n",
    "\n",
    "        operation = client.long_running_recognize(config=config, audio=audio)\n",
    "\n",
    "        print(\"Waiting for operation to complete...\")\n",
    "        response = operation.result(timeout=90)\n",
    "        \n",
    "#         for result in response.results:\n",
    "#             # The first alternative is the most likely one for this portion.\n",
    "#             transcript += result.alternatives[0].transcript\n",
    "        transcript.append(response)\n",
    "    \n",
    "    return transcript\n"
   ]
  },
  {
   "cell_type": "code",
   "execution_count": 8,
   "id": "ad93c3cc",
   "metadata": {},
   "outputs": [
    {
     "name": "stdout",
     "output_type": "stream",
     "text": [
      "exporting Score2.1-161835_chunk0.wav\n",
      "exporting Score2.1-161835_chunk1.wav\n",
      "exporting Score2.1-161835_chunk2.wav\n",
      "Waiting for operation to complete...\n",
      "Waiting for operation to complete...\n",
      "Waiting for operation to complete...\n",
      "exporting Score3_168692_chunk0.wav\n",
      "exporting Score3_168692_chunk1.wav\n",
      "exporting Score3_168692_chunk2.wav\n",
      "exporting Score3_168692_chunk3.wav\n",
      "Waiting for operation to complete...\n",
      "Waiting for operation to complete...\n",
      "Waiting for operation to complete...\n",
      "Waiting for operation to complete...\n",
      "exporting Score1.2-155888_chunk0.wav\n",
      "exporting Score1.2-155888_chunk1.wav\n",
      "exporting Score1.2-155888_chunk2.wav\n",
      "exporting Score1.2-155888_chunk3.wav\n",
      "Waiting for operation to complete...\n",
      "Waiting for operation to complete...\n",
      "Waiting for operation to complete...\n",
      "Waiting for operation to complete...\n",
      "exporting Score2.2-186808_chunk0.wav\n",
      "exporting Score2.2-186808_chunk1.wav\n",
      "exporting Score2.2-186808_chunk2.wav\n",
      "exporting Score2.2-186808_chunk3.wav\n",
      "Waiting for operation to complete...\n",
      "Waiting for operation to complete...\n",
      "Waiting for operation to complete...\n",
      "Waiting for operation to complete...\n",
      "exporting Score2.1-178676_chunk0.wav\n",
      "exporting Score2.1-178676_chunk1.wav\n",
      "exporting Score2.1-178676_chunk2.wav\n",
      "exporting Score2.1-178676_chunk3.wav\n",
      "Waiting for operation to complete...\n",
      "Waiting for operation to complete...\n",
      "Waiting for operation to complete...\n",
      "Waiting for operation to complete...\n",
      "exporting 640000108-Proficient#1_edited_chunk0.wav\n",
      "exporting 640000108-Proficient#1_edited_chunk1.wav\n",
      "Waiting for operation to complete...\n",
      "Waiting for operation to complete...\n",
      "exporting Score2.2-153707_chunk0.wav\n",
      "exporting Score2.2-153707_chunk1.wav\n",
      "exporting Score2.2-153707_chunk2.wav\n",
      "Waiting for operation to complete...\n",
      "Waiting for operation to complete...\n",
      "Waiting for operation to complete...\n",
      "exporting Score2.2-168581_chunk0.wav\n",
      "exporting Score2.2-168581_chunk1.wav\n",
      "exporting Score2.2-168581_chunk2.wav\n",
      "exporting Score2.2-168581_chunk3.wav\n",
      "Waiting for operation to complete...\n",
      "Waiting for operation to complete...\n",
      "Waiting for operation to complete...\n",
      "Waiting for operation to complete...\n"
     ]
    }
   ],
   "source": [
    "res = []\n",
    "for filename in os.listdir(ORIG_DIR):\n",
    "    transcript = transcribe_file(filename)\n",
    "    res.append((filename, transcript))"
   ]
  },
  {
   "cell_type": "code",
   "execution_count": 10,
   "id": "dc481657",
   "metadata": {},
   "outputs": [],
   "source": [
    "with open('./google_results.txt', 'w') as f:\n",
    "    for pair in res:\n",
    "        f.write(pair[0])\n",
    "        f.write('\\n')\n",
    "        f.write(pair[1])\n",
    "        f.write('\\n\\n\\n')\n",
    "    "
   ]
  },
  {
   "cell_type": "code",
   "execution_count": 22,
   "id": "1f1f6b0e",
   "metadata": {},
   "outputs": [
    {
     "name": "stdout",
     "output_type": "stream",
     "text": [
      "exporting Score2.2-153707_chunk0.wav\n",
      "exporting Score2.2-153707_chunk1.wav\n",
      "exporting Score2.2-153707_chunk2.wav\n",
      "Waiting for operation to complete...\n",
      "Waiting for operation to complete...\n",
      "Waiting for operation to complete...\n"
     ]
    },
    {
     "data": {
      "text/plain": [
       "[results {\n",
       "   alternatives {\n",
       "     transcript: \"Guy Talk\"\n",
       "     confidence: 0.5273598432540894\n",
       "   }\n",
       "   result_end_time {\n",
       "     seconds: 19\n",
       "     nanos: 170000000\n",
       "   }\n",
       "   language_code: \"en-us\"\n",
       " }\n",
       " results {\n",
       "   alternatives {\n",
       "     transcript: \" Gothic me period just by 4:10 or talk to you there are time\"\n",
       "     confidence: 0.5334952473640442\n",
       "   }\n",
       "   result_end_time {\n",
       "     seconds: 29\n",
       "     nanos: 950000000\n",
       "   }\n",
       "   language_code: \"en-us\"\n",
       " }\n",
       " total_billed_time {\n",
       "   seconds: 30\n",
       " },\n",
       " results {\n",
       "   alternatives {\n",
       "     transcript: \"like person to do this do\"\n",
       "     confidence: 0.6437003016471863\n",
       "   }\n",
       "   result_end_time {\n",
       "     seconds: 3\n",
       "   }\n",
       "   language_code: \"en-us\"\n",
       " }\n",
       " results {\n",
       "   alternatives {\n",
       "     transcript: \" they must be smart as hell and very well trained left the post I thought it was a second offense positive Tyler was raised by LP the dogs are given to be seen everything or or when the dogs are about 42 or 600 a m n o\"\n",
       "     confidence: 0.5972380042076111\n",
       "   }\n",
       "   result_end_time {\n",
       "     seconds: 29\n",
       "     nanos: 970000000\n",
       "   }\n",
       "   language_code: \"en-us\"\n",
       " }\n",
       " total_billed_time {\n",
       "   seconds: 30\n",
       " },\n",
       " total_billed_time {\n",
       "   seconds: 15\n",
       " }]"
      ]
     },
     "execution_count": 22,
     "metadata": {},
     "output_type": "execute_result"
    }
   ],
   "source": [
    "a = transcribe_file('Score2.2-153707.wav')\n",
    "a"
   ]
  },
  {
   "cell_type": "code",
   "execution_count": 23,
   "id": "d05a6e93",
   "metadata": {},
   "outputs": [
    {
     "data": {
      "text/plain": [
       "3"
      ]
     },
     "execution_count": 23,
     "metadata": {},
     "output_type": "execute_result"
    }
   ],
   "source": [
    "len(a)"
   ]
  },
  {
   "cell_type": "code",
   "execution_count": null,
   "id": "0a3dd126",
   "metadata": {},
   "outputs": [],
   "source": []
  },
  {
   "cell_type": "code",
   "execution_count": 5,
   "id": "8c177554",
   "metadata": {},
   "outputs": [],
   "source": [
    "### another option is to use trascribe\n",
    "### isn't working right now\n",
    "bucketname = \"naep_orf_files\" #Name of the bucket created in the step before\n",
    "\n",
    "import io\n",
    "from google.cloud import storage"
   ]
  },
  {
   "cell_type": "code",
   "execution_count": 6,
   "id": "f7f8dba4",
   "metadata": {},
   "outputs": [],
   "source": [
    "def upload_blob(bucket_name, source_file_name, destination_blob_name):\n",
    "    \"\"\"Uploads a file to the bucket.\"\"\"\n",
    "    storage_client = storage.Client()\n",
    "    bucket = storage_client.get_bucket(bucket_name)\n",
    "    blob = bucket.blob(destination_blob_name)\n",
    "\n",
    "    blob.upload_from_filename(source_file_name)"
   ]
  },
  {
   "cell_type": "code",
   "execution_count": 7,
   "id": "a1ad844f",
   "metadata": {},
   "outputs": [],
   "source": [
    "def delete_blob(bucket_name, blob_name):\n",
    "    \"\"\"Deletes a blob from the bucket.\"\"\"\n",
    "    storage_client = storage.Client()\n",
    "    bucket = storage_client.get_bucket(bucket_name)\n",
    "    blob = bucket.blob(blob_name)\n",
    "\n",
    "    blob.delete()"
   ]
  },
  {
   "cell_type": "code",
   "execution_count": 25,
   "id": "f168118c",
   "metadata": {},
   "outputs": [],
   "source": [
    "def google_transcribe(audio_file_name):\n",
    "    \n",
    "    file_name = '{}/{}'.format(ORIG_DIR, audio_file_name)\n",
    "    frame_rate, channels = frame_rate_channel(file_name)\n",
    "    \n",
    "    bucket_name = bucketname\n",
    "    destination_blob_name = audio_file_name\n",
    "    \n",
    "    upload_blob(bucket_name, file_name, destination_blob_name)\n",
    "    \n",
    "    gcs_uri = 'gs://' + bucketname + '/' + audio_file_name\n",
    "    \n",
    "    client = speech.SpeechClient()\n",
    "    audio = speech.RecognitionAudio(uri=gcs_uri)\n",
    "\n",
    "    config = speech.RecognitionConfig(\n",
    "        encoding=speech.RecognitionConfig.AudioEncoding.ENCODING_UNSPECIFIED,\n",
    "        sample_rate_hertz=frame_rate,\n",
    "        language_code='en-US',\n",
    "        speech_contexts=[{\"phrases\": [\"guide dogs\", \n",
    "                                      \"lead very interesting lives\", \n",
    "                                      \"For ten or twelve years\", \n",
    "                                      \"in charge of guiding\",\n",
    "                                     \"blind person\",\n",
    "                                      \"To do this job\",\n",
    "                                     \"smart gentle and very well trained\"]\n",
    "        }]\n",
    "    )\n",
    "\n",
    "    # Detects speech in the audio file\n",
    "    operation = client.long_running_recognize(config=config,audio=audio)\n",
    "    response = operation.result(timeout=10000)\n",
    "    \n",
    "    transcript = ''\n",
    "\n",
    "    for result in response.results:\n",
    "        transcript += result.alternatives[0].transcript\n",
    "    \n",
    "    delete_blob(bucket_name, destination_blob_name)\n",
    "    print('Done,', audio_file_name)\n",
    "    return transcript"
   ]
  },
  {
   "cell_type": "code",
   "execution_count": 26,
   "id": "bca069f1",
   "metadata": {},
   "outputs": [],
   "source": [
    "l = ['Score2.1-161835.wav',\n",
    " 'Score3_168692.wav',\n",
    " 'Score1.2-155888.wav',\n",
    " 'Score2.2-186808.wav',\n",
    " 'Score2.1-178676.wav',\n",
    " 'Score2.2-153707.wav',\n",
    " 'Score2.2-168581.wav',\n",
    " '640000108-Proficient1_edited.wav']"
   ]
  },
  {
   "cell_type": "code",
   "execution_count": 27,
   "id": "0e955630",
   "metadata": {},
   "outputs": [
    {
     "name": "stdout",
     "output_type": "stream",
     "text": [
      "Done, Score2.1-161835.wav\n",
      "Done, Score3_168692.wav\n",
      "Done, Score1.2-155888.wav\n",
      "Done, Score2.2-186808.wav\n",
      "Done, Score2.1-178676.wav\n",
      "Done, Score2.2-153707.wav\n",
      "Done, Score2.2-168581.wav\n",
      "Boo 640000108-Proficient1_edited.wav\n"
     ]
    }
   ],
   "source": [
    "res = []\n",
    "for filename in l:\n",
    "    try:\n",
    "        transcript = google_transcribe(filename)\n",
    "        res.append((filename, transcript))\n",
    "    except:\n",
    "        print('Boo', filename)"
   ]
  },
  {
   "cell_type": "code",
   "execution_count": 28,
   "id": "7c62ab37",
   "metadata": {},
   "outputs": [],
   "source": [
    "with open('./google_results_phrase2.txt', 'w') as f:\n",
    "    for pair in res:\n",
    "        f.write(pair[0])\n",
    "        f.write('\\n')\n",
    "        f.write(pair[1])\n",
    "        f.write('\\n\\n\\n')"
   ]
  },
  {
   "cell_type": "code",
   "execution_count": 17,
   "id": "15a105a6",
   "metadata": {},
   "outputs": [
    {
     "data": {
      "text/plain": [
       "[('Score2.1-161835.wav',\n",
       "  results {\n",
       "    alternatives {\n",
       "      transcript: \"guide dogs live very friendly 410 or 12 years they are in charge of buying it in person to do the shop they must be smart guy and Mary would try must guide dogs are born as a no signs dogs are in cannot win without a family dog this is family soon after they are four one 2000 about 14 months old he\\'s return to the 10022 to be trained to talk train in March groups for about 3 months or at the end of the tandem most dogs everywhere but train over yet they\\'re new monsters\"\n",
       "      confidence: 0.6194838285446167\n",
       "    }\n",
       "    result_end_time {\n",
       "      seconds: 65\n",
       "      nanos: 730000000\n",
       "    }\n",
       "    language_code: \"en-us\"\n",
       "  }\n",
       "  results {\n",
       "    alternatives {\n",
       "      transcript: \"hotels day trying to get it to you for 4 months at the end of the time they are ready for the world guy dogs form strong bonds with your mother\\'s name and they keep them company all the time\"\n",
       "      confidence: 0.628514289855957\n",
       "    }\n",
       "    result_end_time {\n",
       "      seconds: 87\n",
       "      nanos: 870000000\n",
       "    }\n",
       "    language_code: \"en-us\"\n",
       "  }\n",
       "  total_billed_time {\n",
       "    seconds: 90\n",
       "  })]"
      ]
     },
     "execution_count": 17,
     "metadata": {},
     "output_type": "execute_result"
    }
   ],
   "source": [
    "res"
   ]
  },
  {
   "cell_type": "code",
   "execution_count": null,
   "id": "d7dcb41f",
   "metadata": {},
   "outputs": [],
   "source": []
  }
 ],
 "metadata": {
  "kernelspec": {
   "display_name": "Python 3 (ipykernel)",
   "language": "python",
   "name": "python3"
  },
  "language_info": {
   "codemirror_mode": {
    "name": "ipython",
    "version": 3
   },
   "file_extension": ".py",
   "mimetype": "text/x-python",
   "name": "python",
   "nbconvert_exporter": "python",
   "pygments_lexer": "ipython3",
   "version": "3.9.7"
  }
 },
 "nbformat": 4,
 "nbformat_minor": 5
}
