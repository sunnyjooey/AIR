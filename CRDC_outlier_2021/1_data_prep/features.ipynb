{
 "cells": [
  {
   "cell_type": "code",
   "execution_count": 1,
   "metadata": {},
   "outputs": [],
   "source": [
    "import os\n",
    "import pandas as pd\n",
    "import numpy as np\n",
    "import random\n",
    "import operator\n",
    "import functools\n",
    "import pickle\n",
    "import re"
   ]
  },
  {
   "cell_type": "code",
   "execution_count": 2,
   "metadata": {},
   "outputs": [],
   "source": [
    "pd.set_option('display.max_columns', None)\n",
    "from IPython.display import display"
   ]
  },
  {
   "cell_type": "markdown",
   "metadata": {},
   "source": [
    "### poverty rates"
   ]
  },
  {
   "cell_type": "code",
   "execution_count": 5,
   "metadata": {},
   "outputs": [],
   "source": [
    "work_dir = 'I:/NCES/NCES_Dev/sunjoo_LEE_MOVE/CRDC_outlier_2021_2/0_processed_data/'"
   ]
  },
  {
   "cell_type": "code",
   "execution_count": 6,
   "metadata": {},
   "outputs": [
    {
     "name": "stderr",
     "output_type": "stream",
     "text": [
      "C:\\ProgramData\\Anaconda3\\lib\\site-packages\\IPython\\core\\interactiveshell.py:3063: DtypeWarning: Columns (794,796,797) have mixed types.Specify dtype option on import or set low_memory=False.\n",
      "  interactivity=interactivity, compiler=compiler, result=result)\n"
     ]
    }
   ],
   "source": [
    "# read-in data R-prepped data\n",
    "dfa = pd.read_csv('{}crdc_prepped.csv'.format(work_dir), dtype={'leaid':str, 'combokey':str})"
   ]
  },
  {
   "cell_type": "code",
   "execution_count": 7,
   "metadata": {},
   "outputs": [],
   "source": [
    "# import LEA poverty data for 2020\n",
    "pov = pd.read_excel('{}ussd20.xls'.format(work_dir), skiprows=[0,1], dtype={'State FIPS Code':str, 'District ID':str})\n",
    "pov.columns = ['state','state_fips','district', 'name','population','pop5-17','pov5-17']"
   ]
  },
  {
   "cell_type": "code",
   "execution_count": 8,
   "metadata": {},
   "outputs": [],
   "source": [
    "# get poverty rate by lea and merge into original data\n",
    "pov['leaid'] = pov['state_fips'] + pov['district']\n",
    "pov['pov_per_5-17'] = pov['pov5-17'] / pov['pop5-17']\n",
    "dfa = pd.merge(dfa,pov[['leaid','pov_per_5-17']], how='left', on='leaid')"
   ]
  },
  {
   "cell_type": "code",
   "execution_count": 9,
   "metadata": {},
   "outputs": [],
   "source": [
    "# for LEAs without poverty rate, fill in with average of the state\n",
    "pv = pov[['state','pov5-17']].groupby('state').sum()\n",
    "pop = pov[['state','pop5-17']].groupby('state').sum()\n",
    "st_avg = pv.reset_index()['pov5-17'] / pop.reset_index()['pop5-17']\n",
    "st_avg = pd.concat([pv.reset_index(), st_avg], axis=1)\n",
    "dfa = pd.merge(dfa, st_avg[['state',0]], how='left')\n",
    "dfa['pov_per_5-17'] = dfa.apply(lambda row: row['pov_per_5-17'] if not np.isnan(row['pov_per_5-17']) else row[0], axis=1)\n",
    "dfa.drop([0], axis=1, inplace=True)"
   ]
  },
  {
   "cell_type": "code",
   "execution_count": 10,
   "metadata": {},
   "outputs": [],
   "source": [
    "# for schools with no state, use national average\n",
    "dfa.loc[np.isnan(dfa['pov_per_5-17']), 'pov_per_5-17'] = pov['pov5-17'].sum() / pov['pop5-17'].sum()"
   ]
  },
  {
   "cell_type": "code",
   "execution_count": 11,
   "metadata": {},
   "outputs": [],
   "source": [
    "dfa = dfa.drop(['leaid', 'sch_name', 'state', 'combokey'], axis=1)"
   ]
  },
  {
   "cell_type": "code",
   "execution_count": 12,
   "metadata": {},
   "outputs": [],
   "source": [
    "dfa.to_csv('{}crdc_prepped_formod.csv'.format(work_dir), index=False)"
   ]
  },
  {
   "cell_type": "code",
   "execution_count": null,
   "metadata": {},
   "outputs": [],
   "source": []
  }
 ],
 "metadata": {
  "kernelspec": {
   "display_name": "Python 3",
   "language": "python",
   "name": "python3"
  },
  "language_info": {
   "codemirror_mode": {
    "name": "ipython",
    "version": 3
   },
   "file_extension": ".py",
   "mimetype": "text/x-python",
   "name": "python",
   "nbconvert_exporter": "python",
   "pygments_lexer": "ipython3",
   "version": "3.7.6"
  }
 },
 "nbformat": 4,
 "nbformat_minor": 4
}
